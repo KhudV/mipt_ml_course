{
 "cells": [
  {
   "cell_type": "markdown",
   "metadata": {},
   "source": [
    "*Credits: materials from this notebook belong to YSDA [Practical DL](https://github.com/yandexdataschool/Practical_DL) course. Special thanks for making them available online.*"
   ]
  },
  {
   "cell_type": "markdown",
   "metadata": {},
   "source": [
    "# Lab assignment №1, part 1\n",
    "\n",
    "This lab assignment consists of several parts. You are supposed to make some transformations, train some models, estimate the quality of the models and explain your results.\n",
    "\n",
    "Several comments:\n",
    "* Don't hesitate to ask questions, it's a good practice.\n",
    "* No private/public sharing, please. The copied assignments will be graded with 0 points.\n",
    "* Blocks of this lab will be graded separately."
   ]
  },
  {
   "cell_type": "markdown",
   "metadata": {},
   "source": [
    "## 1. Matrix differentiation"
   ]
  },
  {
   "cell_type": "markdown",
   "metadata": {},
   "source": [
    "Since it easy to google every task please please please try to undestand what's going on. The \"just answer\" thing will be not counted, make sure to present derivation of your solution. It is absolutely OK if you found an answer on web then just exercise in $\\LaTeX$ copying it into here."
   ]
  },
  {
   "cell_type": "markdown",
   "metadata": {},
   "source": [
    "Useful links: \n",
    "[1](http://www.machinelearning.ru/wiki/images/2/2a/Matrix-Gauss.pdf)\n",
    "[2](http://www.atmos.washington.edu/~dennis/MatrixCalculus.pdf)"
   ]
  },
  {
   "cell_type": "markdown",
   "metadata": {},
   "source": [
    "## ex. 1"
   ]
  },
  {
   "cell_type": "markdown",
   "metadata": {},
   "source": [
    "$$  \n",
    "y = x^Tx,  \\quad x \\in \\mathbb{R}^N \n",
    "$$"
   ]
  },
  {
   "cell_type": "markdown",
   "metadata": {},
   "source": [
    "$$\n",
    "\\frac{dy}{dx} = \n",
    "$$ "
   ]
  },
  {
   "cell_type": "markdown",
   "metadata": {},
   "source": [
    "#### Решение\n",
    "1. \n",
    "$$\n",
    "y = x^T x = \\sum_{i=1}^N x_i^2\n",
    "$$\n",
    "\n",
    "2.\n",
    "$$\n",
    "\\frac{\\partial y}{\\partial x_i} = \\frac{\\partial}{\\partial x_i} \\sum_{j=1}^N x_j^2\n",
    "$$\n",
    "\n",
    "3. Производная по $ x_i $ равна:\n",
    "$$\n",
    "\\frac{\\partial y}{\\partial x_i} = 2x_i\n",
    "$$\n",
    "\n",
    "4. Таким образом, векторная производная $ \\frac{dy}{dx} $ записывается как:\n",
    "$$\n",
    "\\frac{dy}{dx} = 2x\n",
    "$$\n",
    "\n",
    "#### Ответ\n",
    "$$\n",
    "\\frac{dy}{dx} = 2x\n",
    "$$"
   ]
  },
  {
   "cell_type": "code",
   "execution_count": null,
   "metadata": {
    "collapsed": true,
    "jupyter": {
     "outputs_hidden": true
    }
   },
   "outputs": [],
   "source": []
  },
  {
   "cell_type": "markdown",
   "metadata": {},
   "source": [
    "## ex. 2"
   ]
  },
  {
   "cell_type": "markdown",
   "metadata": {},
   "source": [
    "$$ y = tr(AB) \\quad A,B \\in \\mathbb{R}^{N \\times N} $$ "
   ]
  },
  {
   "cell_type": "markdown",
   "metadata": {},
   "source": [
    "$$\n",
    "\\frac{dy}{dA} =\n",
    "$$"
   ]
  },
  {
   "cell_type": "markdown",
   "metadata": {},
   "source": [
    "#### Решение\n",
    "1. \n",
    "$$\n",
    "y = \\mathrm{tr}(AB) = \\sum_{i=1}^N \\sum_{j=1}^N A_{ij} B_{ji}\n",
    "$$\n",
    "\n",
    "2. Выражение для производной по элементу $ A_{kl} $:\n",
    "$$\n",
    "\\frac{\\partial y}{\\partial A_{kl}} = \\frac{\\partial}{\\partial A_{kl}} \\sum_{i=1}^N \\sum_{j=1}^N A_{ij} B_{ji}\n",
    "$$\n",
    "\n",
    "3. Вклад в сумму дает только тот член, где $ i = k $ и $ j = l $:\n",
    "$$\n",
    "\\frac{\\partial y}{\\partial A_{kl}} = B_{lk}\n",
    "$$\n",
    "\n",
    "4. Следовательно, \n",
    "$$\n",
    "\\frac{dy}{dA} = B^T\n",
    "$$\n",
    "\n",
    "#### Ответ\n",
    "$$\n",
    "\\frac{dy}{dA} = B^T\n",
    "$$"
   ]
  },
  {
   "cell_type": "code",
   "execution_count": null,
   "metadata": {
    "collapsed": true,
    "jupyter": {
     "outputs_hidden": true
    }
   },
   "outputs": [],
   "source": []
  },
  {
   "cell_type": "markdown",
   "metadata": {},
   "source": [
    "## ex. 3"
   ]
  },
  {
   "cell_type": "markdown",
   "metadata": {},
   "source": [
    "$$  \n",
    "y = x^TAc , \\quad A\\in \\mathbb{R}^{N \\times N}, x\\in \\mathbb{R}^{N}, c\\in \\mathbb{R}^{N} \n",
    "$$"
   ]
  },
  {
   "cell_type": "markdown",
   "metadata": {},
   "source": [
    "$$\n",
    "\\frac{dy}{dx} =\n",
    "$$"
   ]
  },
  {
   "cell_type": "markdown",
   "metadata": {},
   "source": [
    "$$\n",
    "\\frac{dy}{dA} =\n",
    "$$ "
   ]
  },
  {
   "cell_type": "markdown",
   "metadata": {},
   "source": [
    "Hint for the latter (one of the ways): use *ex. 2* result and the fact \n",
    "$$\n",
    "tr(ABC) = tr (CAB)\n",
    "$$"
   ]
  },
  {
   "cell_type": "markdown",
   "metadata": {},
   "source": [
    "### Решение\n",
    "#### 1. $ \\frac{dy}{dx} $\n",
    "\n",
    "$$\n",
    "y = x^T A c\n",
    "$$\n",
    "\n",
    "\n",
    "$$\n",
    "\\frac{dy}{dx} = A c\n",
    "$$\n",
    "\n",
    "Ответ:\n",
    "$$\n",
    "\\frac{dy}{dx} = A c\n",
    "$$\n",
    "\n",
    "\n",
    "#### 2. $ \\frac{dy}{dA} $\n",
    "По свойству следа $ \\mathrm{tr}(ABC) = \\mathrm{tr}(CAB) $:\n",
    "\n",
    "$$\n",
    "y = x^T A c = \\mathrm{tr}(x^T A c) = \\mathrm{tr}(c x^T A) = \\mathrm{tr}(A c x^T)\n",
    "$$\n",
    "По ex.2:\n",
    "$$\n",
    "\\frac{dy}{dA} = (c x^T)^T = x c^T\n",
    "$$\n",
    "\n",
    "\n",
    "Ответ:\n",
    "$$\n",
    "\\frac{dy}{dA} = x c^T\n",
    "$$"
   ]
  },
  {
   "cell_type": "code",
   "execution_count": null,
   "metadata": {
    "collapsed": true,
    "jupyter": {
     "outputs_hidden": true
    }
   },
   "outputs": [],
   "source": []
  },
  {
   "cell_type": "markdown",
   "metadata": {},
   "source": [
    "## ex. 4"
   ]
  },
  {
   "cell_type": "markdown",
   "metadata": {},
   "source": [
    "Classic matrix factorization example. Given matrix $X$ you need to find $A$, $S$ to approximate $X$. This can be done by simple gradient descent iteratively alternating $A$ and $S$ updates.\n",
    "$$\n",
    "J = || X - AS ||_F^2  , \\quad A\\in \\mathbb{R}^{N \\times R} , \\quad S\\in \\mathbb{R}^{R \\times M}\n",
    "$$\n",
    "$$\n",
    "\\frac{dJ}{dS} = ? \n",
    "$$\n",
    "\n",
    "You may use one of the following approaches:"
   ]
  },
  {
   "cell_type": "markdown",
   "metadata": {},
   "source": [
    "#### First approach\n",
    "Using ex.2 and the fact:\n",
    "$$\n",
    "|| X ||_F^2 = tr(XX^T) \n",
    "$$ \n",
    "it is easy to derive gradients (you can find it in one of the refs). "
   ]
  },
  {
   "cell_type": "markdown",
   "metadata": {},
   "source": [
    "#### Second approach\n",
    "You can use *slightly different techniques* if they suits you. Take a look at this derivation:\n",
    "<img src=\"grad.png\">\n",
    "(excerpt from [Handbook of blind source separation, Jutten, page 517](https://books.google.ru/books?id=PTbj03bYH6kC&printsec=frontcover&dq=Handbook+of+Blind+Source+Separation&hl=en&sa=X&ved=0ahUKEwi-q_apiJDLAhULvXIKHVXJDWcQ6AEIHDAA#v=onepage&q=Handbook%20of%20Blind%20Source%20Separation&f=false), open for better picture)."
   ]
  },
  {
   "cell_type": "markdown",
   "metadata": {},
   "source": [
    "#### Third approach\n",
    "And finally we can use chain rule! \n",
    "let $ F = AS $ \n",
    "\n",
    "**Find**\n",
    "$$\n",
    "\\frac{dJ}{dF} =  \n",
    "$$ \n",
    "and \n",
    "$$\n",
    "\\frac{dF}{dS} =  \n",
    "$$ \n",
    "(the shape should be $ NM \\times RM )$.\n",
    "\n",
    "Now it is easy do get desired gradients:\n",
    "$$\n",
    "\\frac{dJ}{dS} =  \n",
    "$$ "
   ]
  },
  {
   "cell_type": "markdown",
   "metadata": {},
   "source": [
    "### Первый подход\n",
    "\n",
    "1. Распишем $ J $ через след:\n",
    "$$\n",
    "J = \\| X - AS \\|_F^2 = \\mathrm{tr}((X - AS)(X - AS)^T)\n",
    "$$\n",
    "Раскрываем произведение:\n",
    "$$\n",
    "(X - AS)(X - AS)^T = XX^T - X (AS)^T - (AS) X^T + (AS)(AS)^T\n",
    "$$\n",
    "\n",
    "Подставляем в $ J $:\n",
    "$$\n",
    "J = \\mathrm{tr}(XX^T) - \\mathrm{tr}(X (AS)^T) - \\mathrm{tr}((AS) X^T) + \\mathrm{tr}((AS)(AS)^T)\n",
    "$$\n",
    "2. Раскроем выражение для $ \\frac{\\partial J}{\\partial S} $ (аналогично ex.2):\n",
    "$$\n",
    "\\frac{\\partial J}{\\partial S} = -2A^T(X - AS)\n",
    "$$"
   ]
  },
  {
   "cell_type": "markdown",
   "metadata": {
    "collapsed": true,
    "jupyter": {
     "outputs_hidden": true
    }
   },
   "source": [
    "## 2. kNN questions\n",
    "Here come the questions from the assignment0_01. Please, refer to the assignment0_01 to get the context of the questions."
   ]
  },
  {
   "cell_type": "markdown",
   "metadata": {},
   "source": [
    "### Question 1\n",
    "\n",
    "Notice the structured patterns in the distance matrix, where some rows or columns are visible brighter. (Note that with the default color scheme black indicates low distances while white indicates high distances.)\n",
    "\n",
    "- What in the data is the cause behind the distinctly bright rows?\n",
    "- What causes the columns?\n",
    "\n",
    "*Your Answer:* Яркие строки указывают на тестовые примеры, которые сильно отличаются от всех обучающих данных. Яркие столбцы указывают на обучающие примеры, которые сильно отличаются от всех тестовых данных. Эти паттерны могут сигнализировать о наличии выбросов или о том, что распределения тестового и обучающего набора данных сильно различаются.\n",
    "\n",
    "\n"
   ]
  },
  {
   "cell_type": "markdown",
   "metadata": {},
   "source": [
    "### Question 2\n",
    "\n",
    "We can also use other distance metrics such as L1 distance.\n",
    "For pixel values $p_{ij}^{(k)}$ at location $(i,j)$ of some image $I_k$, \n",
    "\n",
    "the mean $\\mu$ across all pixels over all images is $$\\mu=\\frac{1}{nhw}\\sum_{k=1}^n\\sum_{i=1}^{h}\\sum_{j=1}^{w}p_{ij}^{(k)}$$\n",
    "And the pixel-wise mean $\\mu_{ij}$ across all images is \n",
    "$$\\mu_{ij}=\\frac{1}{n}\\sum_{k=1}^np_{ij}^{(k)}.$$\n",
    "The general standard deviation $\\sigma$ and pixel-wise standard deviation $\\sigma_{ij}$ is defined similarly.\n",
    "\n",
    "Which of the following preprocessing steps will not change the performance of a Nearest Neighbor classifier that uses L1 distance? Select all that apply.\n",
    "1. Subtracting the mean $\\mu$ ($\\tilde{p}_{ij}^{(k)}=p_{ij}^{(k)}-\\mu$.)\n",
    "2. Subtracting the per pixel mean $\\mu_{ij}$  ($\\tilde{p}_{ij}^{(k)}=p_{ij}^{(k)}-\\mu_{ij}$.)\n",
    "3. Subtracting the mean $\\mu$ and dividing by the standard deviation $\\sigma$.\n",
    "4. Subtracting the pixel-wise mean $\\mu_{ij}$ and dividing by the pixel-wise standard deviation $\\sigma_{ij}$.\n",
    "5. Rotating the coordinate axes of the data.\n",
    "\n",
    "*Your Answer:* 1, 2, 5\n",
    "\n",
    "\n",
    "*Your Explanation:* Вычитание $\\mu$ или $\\mu_{ij}$ и поворот не повлияет на производительность классификатора ближайших соседей с использованием L1 расстояния, так как расстояния не меняются. Другие преобразования могут изменить L1 расстояния и производительность классификатора.\n",
    "\n",
    "\n"
   ]
  },
  {
   "cell_type": "markdown",
   "metadata": {},
   "source": [
    "## Question 3\n",
    "\n",
    "Which of the following statements about $k$-Nearest Neighbor ($k$-NN) are true in a classification setting, and for all $k$? Select all that apply.\n",
    "1. The decision boundary (hyperplane between classes in feature space) of the k-NN classifier is linear.\n",
    "2. The training error of a 1-NN will always be lower than that of 5-NN.\n",
    "3. The test error of a 1-NN will always be lower than that of a 5-NN.\n",
    "4. The time needed to classify a test example with the k-NN classifier grows with the size of the training set.\n",
    "5. None of the above.\n",
    "\n",
    "*Your Answer:* 2, 4\n",
    "\n",
    "\n",
    "*Your Explanation:*\n",
    "1. Форма границы зависит от распределения обучающих точек и может быть очень сложной, особенно при небольших значениях k. \n",
    "2. 1-NN запоминает обучающие данные, так как каждая точка классифицируется на основе ближайшего обучающего примера. В результате он всегда правильно классифицирует каждую обучающую точку, что даёт нулевую ошибку.\n",
    "3. 1-NN склонен к переобучению, поэтому результаты на тестовой выборке могут быть хуже, чем у 5-NN, который лучше обобщает.\n",
    "4. Время классификации в k-NN определяется временем, необходимым для вычисления расстояний между тестовой точкой и всеми обучающими точками.\n",
    "\n"
   ]
  }
 ],
 "metadata": {
  "kernelspec": {
   "display_name": "mipt",
   "language": "python",
   "name": "mipt"
  },
  "language_info": {
   "codemirror_mode": {
    "name": "ipython",
    "version": 3
   },
   "file_extension": ".py",
   "mimetype": "text/x-python",
   "name": "python",
   "nbconvert_exporter": "python",
   "pygments_lexer": "ipython3",
   "version": "3.9.5"
  }
 },
 "nbformat": 4,
 "nbformat_minor": 4
}
