{
  "cells": [
    {
      "cell_type": "markdown",
      "metadata": {
        "id": "NFmOh482SyEF"
      },
      "source": [
        "## Lab 2\n",
        "### Part 2: Dealing with overfitting"
      ]
    },
    {
      "cell_type": "markdown",
      "metadata": {
        "id": "AjzAuO3oSvsI"
      },
      "source": [
        "Today we work with [Fashion-MNIST dataset](https://github.com/zalandoresearch/fashion-mnist) (*hint: it is available in `torchvision`*).\n",
        "\n",
        "Your goal for today:\n",
        "1. Train a FC (fully-connected) network that achieves >= 0.885 test accuracy.\n",
        "2. Cause considerable overfitting by modifying the network (e.g. increasing the number of network parameters and/or layers) and demonstrate in in the appropriate way (e.g. plot loss and accurasy on train and validation set w.r.t. network complexity).\n",
        "3. Try to deal with overfitting (at least partially) by using regularization techniques (Dropout/Batchnorm/...) and demonstrate the results.\n",
        "\n",
        "__Please, write a small report describing your ideas, tries and achieved results in the end of this file.__\n",
        "\n",
        "*Note*: Tasks 2 and 3 are interrelated, in task 3 your goal is to make the network from task 2 less prone to overfitting. Task 1 is independent from 2 and 3.\n",
        "\n",
        "*Note 2*: We recomment to use Google Colab or other machine with GPU acceleration."
      ]
    },
    {
      "cell_type": "code",
      "execution_count": 1,
      "metadata": {
        "id": "_KBld6VOSwhW"
      },
      "outputs": [],
      "source": [
        "import torch\n",
        "import torch.nn as nn\n",
        "import torchvision\n",
        "import torchvision.transforms as transforms\n",
        "import torchsummary\n",
        "from IPython.display import clear_output\n",
        "from matplotlib import pyplot as plt\n",
        "from matplotlib.pyplot import figure\n",
        "import numpy as np\n",
        "import os\n",
        "\n",
        "\n",
        "device = 'cuda:0' if torch.cuda.is_available() else 'cpu'"
      ]
    },
    {
      "cell_type": "code",
      "execution_count": 2,
      "metadata": {
        "colab": {
          "base_uri": "https://localhost:8080/"
        },
        "id": "EdLOG0XqS_g5",
        "outputId": "43b052ca-1d53-4d2f-bb0d-9d8e18358c9e"
      },
      "outputs": [
        {
          "output_type": "stream",
          "name": "stdout",
          "text": [
            "Directory fmnist is created!\n"
          ]
        }
      ],
      "source": [
        "# Technical function\n",
        "def mkdir(path):\n",
        "    if not os.path.exists(root_path):\n",
        "        os.mkdir(root_path)\n",
        "        print('Directory', path, 'is created!')\n",
        "    else:\n",
        "        print('Directory', path, 'already exists!')\n",
        "\n",
        "root_path = 'fmnist'\n",
        "mkdir(root_path)"
      ]
    },
    {
      "cell_type": "code",
      "execution_count": 3,
      "metadata": {
        "colab": {
          "base_uri": "https://localhost:8080/"
        },
        "id": "qt6LE7XaTDT9",
        "outputId": "c580cf2e-acf7-4a0d-86af-01bd446ac67f"
      },
      "outputs": [
        {
          "output_type": "stream",
          "name": "stdout",
          "text": [
            "Downloading http://fashion-mnist.s3-website.eu-central-1.amazonaws.com/train-images-idx3-ubyte.gz\n",
            "Downloading http://fashion-mnist.s3-website.eu-central-1.amazonaws.com/train-images-idx3-ubyte.gz to fmnist/FashionMNIST/raw/train-images-idx3-ubyte.gz\n"
          ]
        },
        {
          "output_type": "stream",
          "name": "stderr",
          "text": [
            "100%|██████████| 26.4M/26.4M [00:02<00:00, 10.5MB/s]\n"
          ]
        },
        {
          "output_type": "stream",
          "name": "stdout",
          "text": [
            "Extracting fmnist/FashionMNIST/raw/train-images-idx3-ubyte.gz to fmnist/FashionMNIST/raw\n",
            "\n",
            "Downloading http://fashion-mnist.s3-website.eu-central-1.amazonaws.com/train-labels-idx1-ubyte.gz\n",
            "Downloading http://fashion-mnist.s3-website.eu-central-1.amazonaws.com/train-labels-idx1-ubyte.gz to fmnist/FashionMNIST/raw/train-labels-idx1-ubyte.gz\n"
          ]
        },
        {
          "output_type": "stream",
          "name": "stderr",
          "text": [
            "100%|██████████| 29.5k/29.5k [00:00<00:00, 172kB/s]\n"
          ]
        },
        {
          "output_type": "stream",
          "name": "stdout",
          "text": [
            "Extracting fmnist/FashionMNIST/raw/train-labels-idx1-ubyte.gz to fmnist/FashionMNIST/raw\n",
            "\n",
            "Downloading http://fashion-mnist.s3-website.eu-central-1.amazonaws.com/t10k-images-idx3-ubyte.gz\n",
            "Downloading http://fashion-mnist.s3-website.eu-central-1.amazonaws.com/t10k-images-idx3-ubyte.gz to fmnist/FashionMNIST/raw/t10k-images-idx3-ubyte.gz\n"
          ]
        },
        {
          "output_type": "stream",
          "name": "stderr",
          "text": [
            "100%|██████████| 4.42M/4.42M [00:01<00:00, 3.30MB/s]\n"
          ]
        },
        {
          "output_type": "stream",
          "name": "stdout",
          "text": [
            "Extracting fmnist/FashionMNIST/raw/t10k-images-idx3-ubyte.gz to fmnist/FashionMNIST/raw\n",
            "\n",
            "Downloading http://fashion-mnist.s3-website.eu-central-1.amazonaws.com/t10k-labels-idx1-ubyte.gz\n",
            "Downloading http://fashion-mnist.s3-website.eu-central-1.amazonaws.com/t10k-labels-idx1-ubyte.gz to fmnist/FashionMNIST/raw/t10k-labels-idx1-ubyte.gz\n"
          ]
        },
        {
          "output_type": "stream",
          "name": "stderr",
          "text": [
            "100%|██████████| 5.15k/5.15k [00:00<00:00, 7.13MB/s]"
          ]
        },
        {
          "output_type": "stream",
          "name": "stdout",
          "text": [
            "Extracting fmnist/FashionMNIST/raw/t10k-labels-idx1-ubyte.gz to fmnist/FashionMNIST/raw\n",
            "\n"
          ]
        },
        {
          "output_type": "stream",
          "name": "stderr",
          "text": [
            "\n"
          ]
        }
      ],
      "source": [
        "download = True\n",
        "train_transform = transforms.ToTensor()\n",
        "test_transform = transforms.ToTensor()\n",
        "transforms.Compose((transforms.ToTensor()))\n",
        "\n",
        "\n",
        "fmnist_dataset_train = torchvision.datasets.FashionMNIST(root_path,\n",
        "                                                        train=True,\n",
        "                                                        transform=train_transform,\n",
        "                                                        target_transform=None,\n",
        "                                                        download=download)\n",
        "fmnist_dataset_test = torchvision.datasets.FashionMNIST(root_path,\n",
        "                                                       train=False,\n",
        "                                                       transform=test_transform,\n",
        "                                                       target_transform=None,\n",
        "                                                       download=download)"
      ]
    },
    {
      "cell_type": "code",
      "execution_count": 4,
      "metadata": {
        "id": "71YP0SPwTIxD"
      },
      "outputs": [],
      "source": [
        "train_loader = torch.utils.data.DataLoader(fmnist_dataset_train,\n",
        "                                           batch_size=128,\n",
        "                                           shuffle=True,\n",
        "                                           num_workers=2)\n",
        "test_loader = torch.utils.data.DataLoader(fmnist_dataset_test,\n",
        "                                          batch_size=256,\n",
        "                                          shuffle=False,\n",
        "                                          num_workers=2)"
      ]
    },
    {
      "cell_type": "code",
      "execution_count": 5,
      "metadata": {
        "colab": {
          "base_uri": "https://localhost:8080/"
        },
        "id": "v_YFmF7NTWrQ",
        "outputId": "a9e71fff-29e0-487a-d85b-c497589301c8"
      },
      "outputs": [
        {
          "output_type": "execute_result",
          "data": {
            "text/plain": [
              "10000"
            ]
          },
          "metadata": {},
          "execution_count": 5
        }
      ],
      "source": [
        "len(fmnist_dataset_test)"
      ]
    },
    {
      "cell_type": "code",
      "execution_count": 6,
      "metadata": {
        "colab": {
          "base_uri": "https://localhost:8080/"
        },
        "id": "aHca15bOTY4B",
        "outputId": "add6fd6b-89eb-450f-c95a-f3c0a8a75a77"
      },
      "outputs": [
        {
          "output_type": "stream",
          "name": "stdout",
          "text": [
            "torch.Size([128, 1, 28, 28])\n",
            "torch.Size([128])\n",
            "128\n"
          ]
        }
      ],
      "source": [
        "for img, label in train_loader:\n",
        "    print(img.shape)\n",
        "#     print(img)\n",
        "    print(label.shape)\n",
        "    print(label.size(0))\n",
        "    break"
      ]
    },
    {
      "cell_type": "markdown",
      "metadata": {
        "id": "b6OOOffHTfX5"
      },
      "source": [
        "### Task 1\n",
        "Train a network that achieves $\\geq 0.885$ test accuracy. It's fine to use only Linear (`nn.Linear`) layers and activations/dropout/batchnorm. Convolutional layers might be a great use, but we will meet them a bit later."
      ]
    },
    {
      "cell_type": "code",
      "execution_count": 10,
      "metadata": {
        "id": "ftpkTjxlTcFx"
      },
      "outputs": [],
      "source": [
        "class TinyNeuralNetwork(nn.Module):\n",
        "    def __init__(self, input_shape=28*28, num_classes=10, input_channels=1):\n",
        "        super(self.__class__, self).__init__()\n",
        "        self.model = nn.Sequential(\n",
        "            nn.Flatten(), # This layer converts image into a vector to use Linear layers afterwards\n",
        "            # Your network structure comes here\n",
        "            nn.Linear(input_shape, 512),\n",
        "            nn.ReLU(),\n",
        "            nn.Dropout(0.2),\n",
        "            nn.Linear(512, 256),\n",
        "            nn.ReLU(),\n",
        "            nn.Dropout(0.2),\n",
        "            nn.Linear(256, num_classes)\n",
        "        )\n",
        "\n",
        "    def forward(self, inp):\n",
        "        out = self.model(inp)\n",
        "        return out"
      ]
    },
    {
      "cell_type": "code",
      "execution_count": 11,
      "metadata": {
        "colab": {
          "base_uri": "https://localhost:8080/"
        },
        "id": "WAi9HOIp3Ipi",
        "outputId": "2581d51f-4624-40f1-c910-5ed91659cef8"
      },
      "outputs": [
        {
          "output_type": "stream",
          "name": "stdout",
          "text": [
            "----------------------------------------------------------------\n",
            "        Layer (type)               Output Shape         Param #\n",
            "================================================================\n",
            "           Flatten-1                  [-1, 784]               0\n",
            "            Linear-2                  [-1, 512]         401,920\n",
            "              ReLU-3                  [-1, 512]               0\n",
            "           Dropout-4                  [-1, 512]               0\n",
            "            Linear-5                  [-1, 256]         131,328\n",
            "              ReLU-6                  [-1, 256]               0\n",
            "           Dropout-7                  [-1, 256]               0\n",
            "            Linear-8                   [-1, 10]           2,570\n",
            "================================================================\n",
            "Total params: 535,818\n",
            "Trainable params: 535,818\n",
            "Non-trainable params: 0\n",
            "----------------------------------------------------------------\n",
            "Input size (MB): 0.00\n",
            "Forward/backward pass size (MB): 0.02\n",
            "Params size (MB): 2.04\n",
            "Estimated Total Size (MB): 2.07\n",
            "----------------------------------------------------------------\n"
          ]
        }
      ],
      "source": [
        "torchsummary.summary(TinyNeuralNetwork().to(device), (28*28,))"
      ]
    },
    {
      "cell_type": "markdown",
      "metadata": {
        "id": "544PGKEnjPr5"
      },
      "source": [
        "Your experiments come here:"
      ]
    },
    {
      "cell_type": "code",
      "execution_count": 12,
      "metadata": {
        "colab": {
          "base_uri": "https://localhost:8080/"
        },
        "id": "i3POFj90Ti-6",
        "outputId": "4bf0cfab-2902-46e8-c645-68d5104f0f15"
      },
      "outputs": [
        {
          "output_type": "stream",
          "name": "stdout",
          "text": [
            "Epoch 01: Train Loss: 0.5536 | Train Acc: 0.8015 | Test Loss: 0.4240 | Test Acc: 0.8482\n",
            "Epoch 02: Train Loss: 0.3885 | Train Acc: 0.8583 | Test Loss: 0.3801 | Test Acc: 0.8621\n",
            "Epoch 03: Train Loss: 0.3547 | Train Acc: 0.8690 | Test Loss: 0.3642 | Test Acc: 0.8683\n",
            "Epoch 04: Train Loss: 0.3300 | Train Acc: 0.8783 | Test Loss: 0.3568 | Test Acc: 0.8721\n",
            "Epoch 05: Train Loss: 0.3132 | Train Acc: 0.8850 | Test Loss: 0.3686 | Test Acc: 0.8637\n",
            "Epoch 06: Train Loss: 0.2999 | Train Acc: 0.8887 | Test Loss: 0.3439 | Test Acc: 0.8747\n",
            "Epoch 07: Train Loss: 0.2901 | Train Acc: 0.8914 | Test Loss: 0.3367 | Test Acc: 0.8751\n",
            "Epoch 08: Train Loss: 0.2784 | Train Acc: 0.8966 | Test Loss: 0.3471 | Test Acc: 0.8741\n",
            "Epoch 09: Train Loss: 0.2713 | Train Acc: 0.8978 | Test Loss: 0.3201 | Test Acc: 0.8851\n",
            "Epoch 10: Train Loss: 0.2609 | Train Acc: 0.9012 | Test Loss: 0.3271 | Test Acc: 0.8819\n",
            "Epoch 11: Train Loss: 0.2538 | Train Acc: 0.9047 | Test Loss: 0.3217 | Test Acc: 0.8836\n",
            "Epoch 12: Train Loss: 0.2483 | Train Acc: 0.9075 | Test Loss: 0.3075 | Test Acc: 0.8897\n",
            "Epoch 13: Train Loss: 0.2444 | Train Acc: 0.9066 | Test Loss: 0.3084 | Test Acc: 0.8900\n",
            "Epoch 14: Train Loss: 0.2371 | Train Acc: 0.9106 | Test Loss: 0.3228 | Test Acc: 0.8874\n",
            "Epoch 15: Train Loss: 0.2314 | Train Acc: 0.9124 | Test Loss: 0.3225 | Test Acc: 0.8898\n"
          ]
        }
      ],
      "source": [
        "model = TinyNeuralNetwork().to(device)\n",
        "opt = torch.optim.Adam(model.parameters(), lr=0.001)\n",
        "loss_func = nn.CrossEntropyLoss()\n",
        "\n",
        "# Your experiments, training and validation loops here\n",
        "def train(model, loader, loss_func, optimizer):\n",
        "    model.train()\n",
        "    running_loss = 0.0\n",
        "    correct, total = 0, 0\n",
        "\n",
        "    for inputs, targets in loader:\n",
        "        inputs, targets = inputs.to(device), targets.to(device)\n",
        "\n",
        "        optimizer.zero_grad()\n",
        "\n",
        "        outputs = model(inputs)\n",
        "        loss = loss_func(outputs, targets)\n",
        "\n",
        "        loss.backward()\n",
        "        optimizer.step()\n",
        "\n",
        "        running_loss += loss.item() * inputs.size(0)\n",
        "        _, predicted = outputs.max(1)\n",
        "        total += targets.size(0)\n",
        "        correct += predicted.eq(targets).sum().item()\n",
        "\n",
        "    epoch_loss = running_loss / len(loader.dataset)\n",
        "    epoch_acc = correct / total\n",
        "    return epoch_loss, epoch_acc\n",
        "\n",
        "def evaluate(model, loader, loss_func):\n",
        "    model.eval()\n",
        "    running_loss = 0.0\n",
        "    correct, total = 0, 0\n",
        "\n",
        "    with torch.no_grad():\n",
        "        for inputs, targets in loader:\n",
        "            inputs, targets = inputs.to(device), targets.to(device)\n",
        "            outputs = model(inputs)\n",
        "            loss = loss_func(outputs, targets)\n",
        "\n",
        "            running_loss += loss.item() * inputs.size(0)\n",
        "            _, predicted = outputs.max(1)\n",
        "            total += targets.size(0)\n",
        "            correct += predicted.eq(targets).sum().item()\n",
        "\n",
        "    epoch_loss = running_loss / len(loader.dataset)\n",
        "    epoch_acc = correct / total\n",
        "    return epoch_loss, epoch_acc\n",
        "\n",
        "num_epochs = 15\n",
        "for epoch in range(1, num_epochs + 1):\n",
        "    train_loss, train_acc = train(model, train_loader, loss_func, opt)\n",
        "    test_loss, test_acc = evaluate(model, test_loader, loss_func)\n",
        "\n",
        "    print(f\"Epoch {epoch:02d}: \"\n",
        "          f\"Train Loss: {train_loss:.4f} | Train Acc: {train_acc:.4f} | \"\n",
        "          f\"Test Loss: {test_loss:.4f} | Test Acc: {test_acc:.4f}\")\n"
      ]
    },
    {
      "cell_type": "code",
      "source": [
        "_, test_acc = evaluate(model, test_loader, loss_func)\n",
        "print(f\"Final Test Accuracy: {test_acc:.4f}\")"
      ],
      "metadata": {
        "colab": {
          "base_uri": "https://localhost:8080/"
        },
        "id": "AdJqRgLM5jKz",
        "outputId": "342a06b0-2268-4325-fb2f-ccd220fa7880"
      },
      "execution_count": 14,
      "outputs": [
        {
          "output_type": "stream",
          "name": "stdout",
          "text": [
            "Final Test Accuracy: 0.8898\n"
          ]
        }
      ]
    },
    {
      "cell_type": "markdown",
      "metadata": {
        "id": "L7ISqkjmCPB1"
      },
      "source": [
        "### Task 2: Overfit it.\n",
        "Build a network that will overfit to this dataset. Demonstrate the overfitting in the appropriate way (e.g. plot loss and accurasy on train and test set w.r.t. network complexity).\n",
        "\n",
        "*Note:* you also might decrease the size of `train` dataset to enforce the overfitting and speed up the computations."
      ]
    },
    {
      "cell_type": "code",
      "execution_count": 15,
      "metadata": {
        "id": "H12uAWiGBwJx"
      },
      "outputs": [],
      "source": [
        "class OverfittingNeuralNetwork(nn.Module):\n",
        "    def __init__(self, input_shape=28*28, num_classes=10, input_channels=1):\n",
        "        super(self.__class__, self).__init__()\n",
        "        self.model = nn.Sequential(\n",
        "            nn.Flatten(), # This layer converts image into a vector to use Linear layers afterwards\n",
        "            # Your network structure comes here\n",
        "            nn.Linear(input_shape, 1024),\n",
        "            nn.ReLU(),\n",
        "            nn.Linear(1024, 512),\n",
        "            nn.ReLU(),\n",
        "            nn.Linear(512, 256),\n",
        "            nn.ReLU(),\n",
        "            nn.Linear(256, 128),\n",
        "            nn.ReLU(),\n",
        "            nn.Linear(128, num_classes)\n",
        "        )\n",
        "\n",
        "    def forward(self, inp):\n",
        "        out = self.model(inp)\n",
        "        return out"
      ]
    },
    {
      "cell_type": "code",
      "execution_count": 16,
      "metadata": {
        "colab": {
          "base_uri": "https://localhost:8080/"
        },
        "id": "JgXAKCpvCwqH",
        "outputId": "51e351b0-59d3-4510-a0d5-ddaafec4fd9e"
      },
      "outputs": [
        {
          "output_type": "stream",
          "name": "stdout",
          "text": [
            "----------------------------------------------------------------\n",
            "        Layer (type)               Output Shape         Param #\n",
            "================================================================\n",
            "           Flatten-1                  [-1, 784]               0\n",
            "            Linear-2                 [-1, 1024]         803,840\n",
            "              ReLU-3                 [-1, 1024]               0\n",
            "            Linear-4                  [-1, 512]         524,800\n",
            "              ReLU-5                  [-1, 512]               0\n",
            "            Linear-6                  [-1, 256]         131,328\n",
            "              ReLU-7                  [-1, 256]               0\n",
            "            Linear-8                  [-1, 128]          32,896\n",
            "              ReLU-9                  [-1, 128]               0\n",
            "           Linear-10                   [-1, 10]           1,290\n",
            "================================================================\n",
            "Total params: 1,494,154\n",
            "Trainable params: 1,494,154\n",
            "Non-trainable params: 0\n",
            "----------------------------------------------------------------\n",
            "Input size (MB): 0.00\n",
            "Forward/backward pass size (MB): 0.04\n",
            "Params size (MB): 5.70\n",
            "Estimated Total Size (MB): 5.74\n",
            "----------------------------------------------------------------\n"
          ]
        }
      ],
      "source": [
        "torchsummary.summary(OverfittingNeuralNetwork().to(device), (28*28,))"
      ]
    },
    {
      "cell_type": "code",
      "source": [
        "subset_size = 1000\n",
        "train_indices = torch.arange(subset_size)\n",
        "reduced_train_dataset = torch.utils.data.Subset(fmnist_dataset_train, train_indices)\n",
        "train_loader = torch.utils.data.DataLoader(reduced_train_dataset, batch_size=128, shuffle=True)"
      ],
      "metadata": {
        "id": "u33eQcTd8MaB"
      },
      "execution_count": 21,
      "outputs": []
    },
    {
      "cell_type": "code",
      "execution_count": 18,
      "metadata": {
        "colab": {
          "base_uri": "https://localhost:8080/"
        },
        "id": "AFyuG2xq3Ipj",
        "outputId": "06bb27b6-beac-469c-a7b5-f965534d2a04"
      },
      "outputs": [
        {
          "output_type": "stream",
          "name": "stdout",
          "text": [
            "Epoch 01: Train Loss: 2.0910 | Train Acc: 0.3060 | Test Loss: 1.5207 | Test Acc: 0.5218\n",
            "Epoch 02: Train Loss: 1.2333 | Train Acc: 0.5580 | Test Loss: 0.9711 | Test Acc: 0.5863\n",
            "Epoch 03: Train Loss: 0.9772 | Train Acc: 0.6150 | Test Loss: 0.9154 | Test Acc: 0.6067\n",
            "Epoch 04: Train Loss: 0.8556 | Train Acc: 0.6600 | Test Loss: 0.8470 | Test Acc: 0.6504\n",
            "Epoch 05: Train Loss: 0.7390 | Train Acc: 0.7010 | Test Loss: 0.7695 | Test Acc: 0.7082\n",
            "Epoch 06: Train Loss: 0.6622 | Train Acc: 0.7520 | Test Loss: 0.7185 | Test Acc: 0.7418\n",
            "Epoch 07: Train Loss: 0.5874 | Train Acc: 0.7950 | Test Loss: 0.7557 | Test Acc: 0.7230\n",
            "Epoch 08: Train Loss: 0.5384 | Train Acc: 0.8050 | Test Loss: 0.7327 | Test Acc: 0.7395\n",
            "Epoch 09: Train Loss: 0.4923 | Train Acc: 0.8190 | Test Loss: 0.7199 | Test Acc: 0.7384\n",
            "Epoch 10: Train Loss: 0.4280 | Train Acc: 0.8390 | Test Loss: 0.6532 | Test Acc: 0.7725\n",
            "Epoch 11: Train Loss: 0.3857 | Train Acc: 0.8630 | Test Loss: 0.6432 | Test Acc: 0.7722\n",
            "Epoch 12: Train Loss: 0.3418 | Train Acc: 0.8820 | Test Loss: 0.6830 | Test Acc: 0.7661\n",
            "Epoch 13: Train Loss: 0.3369 | Train Acc: 0.8760 | Test Loss: 0.6738 | Test Acc: 0.7787\n",
            "Epoch 14: Train Loss: 0.3063 | Train Acc: 0.8940 | Test Loss: 0.6963 | Test Acc: 0.7702\n",
            "Epoch 15: Train Loss: 0.2893 | Train Acc: 0.9000 | Test Loss: 0.7751 | Test Acc: 0.7550\n",
            "Epoch 16: Train Loss: 0.3048 | Train Acc: 0.8880 | Test Loss: 0.6799 | Test Acc: 0.7915\n",
            "Epoch 17: Train Loss: 0.2801 | Train Acc: 0.9000 | Test Loss: 0.6802 | Test Acc: 0.7878\n",
            "Epoch 18: Train Loss: 0.2469 | Train Acc: 0.9070 | Test Loss: 0.7375 | Test Acc: 0.7778\n",
            "Epoch 19: Train Loss: 0.2354 | Train Acc: 0.9230 | Test Loss: 0.6895 | Test Acc: 0.7949\n",
            "Epoch 20: Train Loss: 0.2126 | Train Acc: 0.9260 | Test Loss: 0.7316 | Test Acc: 0.7890\n",
            "Epoch 21: Train Loss: 0.1786 | Train Acc: 0.9360 | Test Loss: 0.7091 | Test Acc: 0.7933\n",
            "Epoch 22: Train Loss: 0.1635 | Train Acc: 0.9420 | Test Loss: 0.9082 | Test Acc: 0.7565\n",
            "Epoch 23: Train Loss: 0.2332 | Train Acc: 0.9260 | Test Loss: 0.8265 | Test Acc: 0.7663\n",
            "Epoch 24: Train Loss: 0.2144 | Train Acc: 0.9190 | Test Loss: 0.7988 | Test Acc: 0.7697\n",
            "Epoch 25: Train Loss: 0.1937 | Train Acc: 0.9310 | Test Loss: 0.7400 | Test Acc: 0.8009\n",
            "Epoch 26: Train Loss: 0.1432 | Train Acc: 0.9570 | Test Loss: 0.7456 | Test Acc: 0.7989\n",
            "Epoch 27: Train Loss: 0.1247 | Train Acc: 0.9610 | Test Loss: 0.7794 | Test Acc: 0.8022\n",
            "Epoch 28: Train Loss: 0.1485 | Train Acc: 0.9450 | Test Loss: 0.8817 | Test Acc: 0.7884\n",
            "Epoch 29: Train Loss: 0.1281 | Train Acc: 0.9520 | Test Loss: 0.7986 | Test Acc: 0.8005\n",
            "Epoch 30: Train Loss: 0.1183 | Train Acc: 0.9620 | Test Loss: 0.7963 | Test Acc: 0.7968\n",
            "Epoch 31: Train Loss: 0.0986 | Train Acc: 0.9650 | Test Loss: 0.8754 | Test Acc: 0.7901\n",
            "Epoch 32: Train Loss: 0.0888 | Train Acc: 0.9690 | Test Loss: 0.9771 | Test Acc: 0.7752\n",
            "Epoch 33: Train Loss: 0.0826 | Train Acc: 0.9750 | Test Loss: 0.9124 | Test Acc: 0.7945\n",
            "Epoch 34: Train Loss: 0.0618 | Train Acc: 0.9820 | Test Loss: 0.9429 | Test Acc: 0.7975\n",
            "Epoch 35: Train Loss: 0.0478 | Train Acc: 0.9890 | Test Loss: 0.9839 | Test Acc: 0.7917\n",
            "Epoch 36: Train Loss: 0.0517 | Train Acc: 0.9870 | Test Loss: 0.9819 | Test Acc: 0.8004\n",
            "Epoch 37: Train Loss: 0.0401 | Train Acc: 0.9920 | Test Loss: 0.9777 | Test Acc: 0.7994\n",
            "Epoch 38: Train Loss: 0.0424 | Train Acc: 0.9880 | Test Loss: 1.0703 | Test Acc: 0.7971\n",
            "Epoch 39: Train Loss: 0.1014 | Train Acc: 0.9730 | Test Loss: 1.0656 | Test Acc: 0.7939\n",
            "Epoch 40: Train Loss: 0.0840 | Train Acc: 0.9670 | Test Loss: 1.1052 | Test Acc: 0.7729\n",
            "Epoch 41: Train Loss: 0.0892 | Train Acc: 0.9690 | Test Loss: 1.1426 | Test Acc: 0.7690\n",
            "Epoch 42: Train Loss: 0.0908 | Train Acc: 0.9680 | Test Loss: 0.9878 | Test Acc: 0.7979\n",
            "Epoch 43: Train Loss: 0.0613 | Train Acc: 0.9800 | Test Loss: 1.0632 | Test Acc: 0.7900\n",
            "Epoch 44: Train Loss: 0.0651 | Train Acc: 0.9810 | Test Loss: 1.1580 | Test Acc: 0.7822\n",
            "Epoch 45: Train Loss: 0.0648 | Train Acc: 0.9730 | Test Loss: 1.1338 | Test Acc: 0.7853\n",
            "Epoch 46: Train Loss: 0.0619 | Train Acc: 0.9790 | Test Loss: 1.0600 | Test Acc: 0.7906\n",
            "Epoch 47: Train Loss: 0.0695 | Train Acc: 0.9770 | Test Loss: 1.2284 | Test Acc: 0.7699\n",
            "Epoch 48: Train Loss: 0.0596 | Train Acc: 0.9840 | Test Loss: 1.1472 | Test Acc: 0.7861\n",
            "Epoch 49: Train Loss: 0.0535 | Train Acc: 0.9830 | Test Loss: 1.3359 | Test Acc: 0.7635\n",
            "Epoch 50: Train Loss: 0.0578 | Train Acc: 0.9800 | Test Loss: 1.2698 | Test Acc: 0.7740\n"
          ]
        }
      ],
      "source": [
        "model = OverfittingNeuralNetwork().to(device)\n",
        "opt = torch.optim.Adam(model.parameters(), lr=0.001)\n",
        "loss_func = nn.CrossEntropyLoss()\n",
        "\n",
        "# Your experiments, come here\n",
        "num_epochs = 50\n",
        "train_losses, train_accuracies = [], []\n",
        "test_losses, test_accuracies = [], []\n",
        "\n",
        "for epoch in range(1, num_epochs + 1):\n",
        "    train_loss, train_acc = train(model, train_loader, loss_func, opt)\n",
        "    test_loss, test_acc = evaluate(model, test_loader, loss_func)\n",
        "\n",
        "    train_losses.append(train_loss)\n",
        "    train_accuracies.append(train_acc)\n",
        "    test_losses.append(test_loss)\n",
        "    test_accuracies.append(test_acc)\n",
        "\n",
        "    print(f\"Epoch {epoch:02d}: \"\n",
        "          f\"Train Loss: {train_loss:.4f} | Train Acc: {train_acc:.4f} | \"\n",
        "          f\"Test Loss: {test_loss:.4f} | Test Acc: {test_acc:.4f}\")\n",
        "\n"
      ]
    },
    {
      "cell_type": "code",
      "source": [
        "def plot_metrics(train_losses, test_losses, train_accuracies, test_accuracies):\n",
        "    epochs = np.arange(1, len(train_losses) + 1)\n",
        "\n",
        "    plt.figure(figsize=(12, 5))\n",
        "\n",
        "    plt.subplot(1, 2, 1)\n",
        "    plt.plot(epochs, train_losses, label='Train Loss')\n",
        "    plt.plot(epochs, test_losses, label='Test Loss')\n",
        "    plt.xlabel('Epochs')\n",
        "    plt.ylabel('Loss')\n",
        "    plt.title('Train vs Test Loss')\n",
        "    plt.legend()\n",
        "\n",
        "    plt.subplot(1, 2, 2)\n",
        "    plt.plot(epochs, train_accuracies, label='Train Accuracy')\n",
        "    plt.plot(epochs, test_accuracies, label='Test Accuracy')\n",
        "    plt.xlabel('Epochs')\n",
        "    plt.ylabel('Accuracy')\n",
        "    plt.title('Train vs Test Accuracy')\n",
        "    plt.legend()\n",
        "\n",
        "    plt.show()\n",
        "\n",
        "plot_metrics(train_losses, test_losses, train_accuracies, test_accuracies)"
      ],
      "metadata": {
        "colab": {
          "base_uri": "https://localhost:8080/",
          "height": 487
        },
        "id": "wpNVP0wt84L_",
        "outputId": "712b9983-4be1-4abb-c887-223b3ccaf26d"
      },
      "execution_count": 19,
      "outputs": [
        {
          "output_type": "display_data",
          "data": {
            "text/plain": [
              "<Figure size 1200x500 with 2 Axes>"
            ],
            "image/png": "[encoded data removed]"
          },
          "metadata": {}
        }
      ]
    },
    {
      "cell_type": "code",
      "source": [
        "print(f\"Final Test Accuracy: {test_accuracies[-1]:.4f}\")"
      ],
      "metadata": {
        "colab": {
          "base_uri": "https://localhost:8080/"
        },
        "id": "77vVgMtuALBb",
        "outputId": "be239345-889b-4222-b03d-7e37215df6db"
      },
      "execution_count": 23,
      "outputs": [
        {
          "output_type": "stream",
          "name": "stdout",
          "text": [
            "Final Test Accuracy: 0.7740\n"
          ]
        }
      ]
    },
    {
      "cell_type": "markdown",
      "metadata": {
        "id": "HnIyujxA3Ipj"
      },
      "source": [
        "### Task 3: Fix it.\n",
        "Fix the overfitted network from the previous step (at least partially) by using regularization techniques (Dropout/Batchnorm/...) and demonstrate the results."
      ]
    },
    {
      "cell_type": "code",
      "execution_count": 22,
      "metadata": {
        "id": "lbTK2y8p3Ipj"
      },
      "outputs": [],
      "source": [
        "class FixedNeuralNetwork(nn.Module):\n",
        "    def __init__(self, input_shape=28*28, num_classes=10, input_channels=1):\n",
        "        super(self.__class__, self).__init__()\n",
        "        self.model = nn.Sequential(\n",
        "            nn.Flatten(), # This layer converts image into a vector to use Linear layers afterwards\n",
        "            # Your network structure comes here\n",
        "            nn.Linear(input_shape, 1024),\n",
        "            nn.BatchNorm1d(1024),\n",
        "            nn.ReLU(),\n",
        "            nn.Dropout(0.5),\n",
        "            nn.Linear(1024, 512),\n",
        "            nn.BatchNorm1d(512),\n",
        "            nn.ReLU(),\n",
        "            nn.Dropout(0.5),\n",
        "            nn.Linear(512, 256),\n",
        "            nn.BatchNorm1d(256),\n",
        "            nn.ReLU(),\n",
        "            nn.Dropout(0.5),\n",
        "            nn.Linear(256, 128),\n",
        "            nn.BatchNorm1d(128),\n",
        "            nn.ReLU(),\n",
        "            nn.Dropout(0.5),\n",
        "            nn.Linear(128, num_classes)\n",
        "\n",
        "        )\n",
        "\n",
        "    def forward(self, inp):\n",
        "        out = self.model(inp)\n",
        "        return out"
      ]
    },
    {
      "cell_type": "code",
      "execution_count": 24,
      "metadata": {
        "colab": {
          "base_uri": "https://localhost:8080/"
        },
        "id": "NV3Ja_ux3Ipj",
        "outputId": "21cea72a-e571-4efb-a798-43e049ba3867"
      },
      "outputs": [
        {
          "output_type": "stream",
          "name": "stdout",
          "text": [
            "----------------------------------------------------------------\n",
            "        Layer (type)               Output Shape         Param #\n",
            "================================================================\n",
            "           Flatten-1                  [-1, 784]               0\n",
            "            Linear-2                 [-1, 1024]         803,840\n",
            "       BatchNorm1d-3                 [-1, 1024]           2,048\n",
            "              ReLU-4                 [-1, 1024]               0\n",
            "           Dropout-5                 [-1, 1024]               0\n",
            "            Linear-6                  [-1, 512]         524,800\n",
            "       BatchNorm1d-7                  [-1, 512]           1,024\n",
            "              ReLU-8                  [-1, 512]               0\n",
            "           Dropout-9                  [-1, 512]               0\n",
            "           Linear-10                  [-1, 256]         131,328\n",
            "      BatchNorm1d-11                  [-1, 256]             512\n",
            "             ReLU-12                  [-1, 256]               0\n",
            "          Dropout-13                  [-1, 256]               0\n",
            "           Linear-14                  [-1, 128]          32,896\n",
            "      BatchNorm1d-15                  [-1, 128]             256\n",
            "             ReLU-16                  [-1, 128]               0\n",
            "          Dropout-17                  [-1, 128]               0\n",
            "           Linear-18                   [-1, 10]           1,290\n",
            "================================================================\n",
            "Total params: 1,497,994\n",
            "Trainable params: 1,497,994\n",
            "Non-trainable params: 0\n",
            "----------------------------------------------------------------\n",
            "Input size (MB): 0.00\n",
            "Forward/backward pass size (MB): 0.06\n",
            "Params size (MB): 5.71\n",
            "Estimated Total Size (MB): 5.78\n",
            "----------------------------------------------------------------\n"
          ]
        }
      ],
      "source": [
        "torchsummary.summary(FixedNeuralNetwork().to(device), (28*28,))"
      ]
    },
    {
      "cell_type": "code",
      "execution_count": 25,
      "metadata": {
        "colab": {
          "base_uri": "https://localhost:8080/"
        },
        "id": "456o_bRN3Ipj",
        "outputId": "e471fbd6-0cb1-40e4-ada0-d119e5491341"
      },
      "outputs": [
        {
          "output_type": "stream",
          "name": "stdout",
          "text": [
            "Epoch 01: Train Loss: 2.1811 | Train Acc: 0.2310 | Test Loss: 2.1676 | Test Acc: 0.4581\n",
            "Epoch 02: Train Loss: 1.6848 | Train Acc: 0.4780 | Test Loss: 1.6291 | Test Acc: 0.5839\n",
            "Epoch 03: Train Loss: 1.3546 | Train Acc: 0.5920 | Test Loss: 1.2088 | Test Acc: 0.6569\n",
            "Epoch 04: Train Loss: 1.1561 | Train Acc: 0.6620 | Test Loss: 1.0077 | Test Acc: 0.7022\n",
            "Epoch 05: Train Loss: 1.0082 | Train Acc: 0.7060 | Test Loss: 0.9066 | Test Acc: 0.7155\n",
            "Epoch 06: Train Loss: 0.9123 | Train Acc: 0.7170 | Test Loss: 0.8184 | Test Acc: 0.7333\n",
            "Epoch 07: Train Loss: 0.8190 | Train Acc: 0.7480 | Test Loss: 0.7588 | Test Acc: 0.7411\n",
            "Epoch 08: Train Loss: 0.7402 | Train Acc: 0.7700 | Test Loss: 0.7061 | Test Acc: 0.7555\n",
            "Epoch 09: Train Loss: 0.6575 | Train Acc: 0.8080 | Test Loss: 0.6691 | Test Acc: 0.7659\n",
            "Epoch 10: Train Loss: 0.6077 | Train Acc: 0.8190 | Test Loss: 0.6541 | Test Acc: 0.7653\n",
            "Epoch 11: Train Loss: 0.5662 | Train Acc: 0.8260 | Test Loss: 0.6318 | Test Acc: 0.7828\n",
            "Epoch 12: Train Loss: 0.5340 | Train Acc: 0.8400 | Test Loss: 0.6289 | Test Acc: 0.7798\n",
            "Epoch 13: Train Loss: 0.4781 | Train Acc: 0.8620 | Test Loss: 0.6085 | Test Acc: 0.7865\n",
            "Epoch 14: Train Loss: 0.4440 | Train Acc: 0.8680 | Test Loss: 0.6143 | Test Acc: 0.7895\n",
            "Epoch 15: Train Loss: 0.4031 | Train Acc: 0.8870 | Test Loss: 0.5930 | Test Acc: 0.7949\n",
            "Epoch 16: Train Loss: 0.3792 | Train Acc: 0.8980 | Test Loss: 0.5988 | Test Acc: 0.7946\n",
            "Epoch 17: Train Loss: 0.3355 | Train Acc: 0.9010 | Test Loss: 0.6061 | Test Acc: 0.7936\n",
            "Epoch 18: Train Loss: 0.3528 | Train Acc: 0.8960 | Test Loss: 0.6329 | Test Acc: 0.7856\n",
            "Epoch 19: Train Loss: 0.3204 | Train Acc: 0.9090 | Test Loss: 0.6309 | Test Acc: 0.7975\n",
            "Epoch 20: Train Loss: 0.2947 | Train Acc: 0.9200 | Test Loss: 0.6245 | Test Acc: 0.7920\n",
            "Epoch 21: Train Loss: 0.3181 | Train Acc: 0.9000 | Test Loss: 0.6430 | Test Acc: 0.7937\n",
            "Epoch 22: Train Loss: 0.2618 | Train Acc: 0.9160 | Test Loss: 0.6100 | Test Acc: 0.8012\n",
            "Epoch 23: Train Loss: 0.2527 | Train Acc: 0.9370 | Test Loss: 0.6518 | Test Acc: 0.7949\n",
            "Epoch 24: Train Loss: 0.2580 | Train Acc: 0.9320 | Test Loss: 0.6510 | Test Acc: 0.7994\n",
            "Epoch 25: Train Loss: 0.2445 | Train Acc: 0.9330 | Test Loss: 0.6927 | Test Acc: 0.7857\n",
            "Epoch 26: Train Loss: 0.2653 | Train Acc: 0.9290 | Test Loss: 0.7130 | Test Acc: 0.7917\n",
            "Epoch 27: Train Loss: 0.2245 | Train Acc: 0.9290 | Test Loss: 0.6946 | Test Acc: 0.7889\n",
            "Epoch 28: Train Loss: 0.2505 | Train Acc: 0.9240 | Test Loss: 0.7325 | Test Acc: 0.7892\n",
            "Epoch 29: Train Loss: 0.2323 | Train Acc: 0.9290 | Test Loss: 0.6830 | Test Acc: 0.8008\n",
            "Epoch 30: Train Loss: 0.2163 | Train Acc: 0.9340 | Test Loss: 0.7148 | Test Acc: 0.7916\n"
          ]
        }
      ],
      "source": [
        "model = FixedNeuralNetwork().to(device)\n",
        "opt = torch.optim.Adam(model.parameters(), lr=0.001)\n",
        "loss_func = nn.CrossEntropyLoss()\n",
        "\n",
        "# Your experiments, come here\n",
        "num_epochs = 30\n",
        "train_losses, train_accuracies = [], []\n",
        "test_losses, test_accuracies = [], []\n",
        "\n",
        "for epoch in range(1, num_epochs + 1):\n",
        "    train_loss, train_acc = train(model, train_loader, loss_func, opt)\n",
        "    test_loss, test_acc = evaluate(model, test_loader, loss_func)\n",
        "\n",
        "    train_losses.append(train_loss)\n",
        "    train_accuracies.append(train_acc)\n",
        "    test_losses.append(test_loss)\n",
        "    test_accuracies.append(test_acc)\n",
        "\n",
        "    print(f\"Epoch {epoch:02d}: \"\n",
        "          f\"Train Loss: {train_loss:.4f} | Train Acc: {train_acc:.4f} | \"\n",
        "          f\"Test Loss: {test_loss:.4f} | Test Acc: {test_acc:.4f}\")"
      ]
    },
    {
      "cell_type": "code",
      "source": [
        "plot_metrics(train_losses, test_losses, train_accuracies, test_accuracies)"
      ],
      "metadata": {
        "colab": {
          "base_uri": "https://localhost:8080/",
          "height": 487
        },
        "id": "5FTDdGdsAf54",
        "outputId": "51ec5a2a-95a6-47c8-bf0a-8b90334e9100"
      },
      "execution_count": 26,
      "outputs": [
        {
          "output_type": "display_data",
          "data": {
            "text/plain": [
              "<Figure size 1200x500 with 2 Axes>"
            ],
            "image/png": "[encoded data removed]"
          },
          "metadata": {}
        }
      ]
    },
    {
      "cell_type": "code",
      "source": [
        "print(f\"Final Test Accuracy: {test_accuracies[-1]:.4f}\")"
      ],
      "metadata": {
        "colab": {
          "base_uri": "https://localhost:8080/"
        },
        "id": "s2Wb1BT5AhSR",
        "outputId": "7ba7d3fe-4a79-476e-de79-2e307a010a21"
      },
      "execution_count": 27,
      "outputs": [
        {
          "output_type": "stream",
          "name": "stdout",
          "text": [
            "Final Test Accuracy: 0.7916\n"
          ]
        }
      ]
    },
    {
      "cell_type": "markdown",
      "metadata": {
        "id": "dMui_uLJ7G0d"
      },
      "source": [
        "### Conclusions:\n",
        "Слишком глубокие нейронные сети склонны к переобучению на небольших датасетах. Применение регуляризационных техник, таких как Dropout, Batch Normalization и раннее завершение обучения (30 эпох вместо 50), позволяет снизить переобучение, что приводит к уменьшению функции потерь и повышению точности на тестовой выборке"
      ]
    }
  ],
  "metadata": {
    "accelerator": "GPU",
    "colab": {
      "provenance": []
    },
    "kernelspec": {
      "display_name": "Python 3",
      "language": "python",
      "name": "python3"
    },
    "language_info": {
      "codemirror_mode": {
        "name": "ipython",
        "version": 3
      },
      "file_extension": ".py",
      "mimetype": "text/x-python",
      "name": "python",
      "nbconvert_exporter": "python",
      "pygments_lexer": "ipython3",
      "version": "3.7.7"
    }
  },
  "nbformat": 4,
  "nbformat_minor": 0
}