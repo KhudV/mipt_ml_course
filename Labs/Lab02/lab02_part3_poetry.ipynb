{
  "cells": [
    {
      "cell_type": "markdown",
      "metadata": {
        "id": "GdMp-zGoE3iL"
      },
      "source": [
        "## Lab 2"
      ]
    },
    {
      "cell_type": "markdown",
      "metadata": {
        "id": "d6vzGEUqE3iM"
      },
      "source": [
        "### Part 3. Poetry generation\n",
        "\n",
        "Let's try to generate some poetry using RNNs.\n",
        "\n",
        "You have several choices here:\n",
        "\n",
        "* The Shakespeare sonnets, file `sonnets.txt` available in the notebook directory.\n",
        "\n",
        "* Роман в стихах \"Евгений Онегин\" Александра Сергеевича Пушкина. В предобработанном виде доступен по [ссылке](https://github.com/attatrol/data_sources/blob/master/onegin.txt).\n",
        "\n",
        "* Some other text source, if it will be approved by the course staff.\n",
        "\n",
        "Text generation can be designed in several steps:\n",
        "    \n",
        "1. Data loading.\n",
        "2. Dictionary generation.\n",
        "3. Data preprocessing.\n",
        "4. Model (neural network) training.\n",
        "5. Text generation (model evaluation).\n"
      ]
    },
    {
      "cell_type": "code",
      "execution_count": 1,
      "metadata": {
        "id": "y_Mr8weDE3iM"
      },
      "outputs": [],
      "source": [
        "import string\n",
        "import os\n",
        "import torch\n",
        "import torch.nn as nn\n",
        "from torch.autograd import Variable\n",
        "import numpy as np\n"
      ]
    },
    {
      "cell_type": "markdown",
      "metadata": {
        "id": "6c7KdpATE3iN"
      },
      "source": [
        "### Data loading: Shakespeare"
      ]
    },
    {
      "cell_type": "markdown",
      "metadata": {
        "id": "c7x-tUYHE3iN"
      },
      "source": [
        "Shakespeare sonnets are awailable at this [link](http://www.gutenberg.org/ebooks/1041?msg=welcome_stranger). In addition, they are stored in the same directory as this notebook (`sonnetes.txt`). Simple preprocessing is already done for you in the next cell: all technical info is dropped."
      ]
    },
    {
      "cell_type": "code",
      "execution_count": 2,
      "metadata": {
        "colab": {
          "base_uri": "https://localhost:8080/"
        },
        "collapsed": true,
        "id": "hjqtVS0iE3iN",
        "outputId": "69281fa2-56ce-42f6-83e2-3a40a777cf8d"
      },
      "outputs": [],
      "source": [
        "if not os.path.exists('sonnets.txt'):\n",
        "    !wget https://raw.githubusercontent.com/girafe-ai/ml-course/22f_basic/homeworks_basic/lab02_deep_learning/sonnets.txt\n",
        "\n",
        "with open('sonnets.txt', 'r') as iofile:\n",
        "    text = iofile.readlines()\n",
        "\n",
        "TEXT_START = 45\n",
        "TEXT_END = -368\n",
        "text = text[TEXT_START : TEXT_END]\n",
        "assert len(text) == 2616"
      ]
    },
    {
      "cell_type": "markdown",
      "metadata": {
        "id": "MC5no6JbE3iN"
      },
      "source": [
        "In opposite to the in-class practice, this time we want to predict complex text. Let's reduce the complexity of the task and lowercase all the symbols.\n",
        "\n",
        "Now variable `text` is a list of strings. Join all the strings into one and lowercase it."
      ]
    },
    {
      "cell_type": "code",
      "execution_count": 3,
      "metadata": {
        "colab": {
          "base_uri": "https://localhost:8080/"
        },
        "id": "UwPNB8yGE3iO",
        "outputId": "0e7f10ea-fe80-4365-ec2f-4b3674456d15"
      },
      "outputs": [
        {
          "name": "stdout",
          "output_type": "stream",
          "text": [
            "OK!\n"
          ]
        }
      ],
      "source": [
        "# Join all the strings into one and lowercase it\n",
        "# Put result into variable text.\n",
        "\n",
        "text = ''.join(text).lower()\n",
        "\n",
        "assert len(text) == 100225, 'Are you sure you have concatenated all the strings?'\n",
        "assert not any([x in set(text) for x in string.ascii_uppercase]), 'Uppercase letters are present'\n",
        "print('OK!')"
      ]
    },
    {
      "cell_type": "markdown",
      "metadata": {
        "id": "P9SiLYYCE3iO"
      },
      "source": [
        "### Data loading: \"Евгений Онегин\"\n"
      ]
    },
    {
      "cell_type": "code",
      "execution_count": 4,
      "metadata": {
        "id": "aSBV6114E3iO"
      },
      "outputs": [],
      "source": [
        "#!wget https://raw.githubusercontent.com/attatrol/data_sources/master/onegin.txt\n",
        "\n",
        "#with open('onegin.txt', 'r') as iofile:\n",
        "    #text = iofile.readlines()\n",
        "\n",
        "#text = [x.replace('\\t\\t', '') for x in text]"
      ]
    },
    {
      "cell_type": "markdown",
      "metadata": {
        "id": "7nIta9MAE3iO"
      },
      "source": [
        "In opposite to the in-class practice, this time we want to predict complex text. Let's reduce the complexity of the task and lowercase all the symbols.\n",
        "\n",
        "Now variable `text` is a list of strings. Join all the strings into one and lowercase it."
      ]
    },
    {
      "cell_type": "code",
      "execution_count": 5,
      "metadata": {
        "id": "V8PS0ZqnE3iO"
      },
      "outputs": [],
      "source": [
        "# Join all the strings into one and lowercase it\n",
        "# Put result into variable text.\n",
        "\n",
        "# Your great code here\n"
      ]
    },
    {
      "cell_type": "markdown",
      "metadata": {
        "id": "bA7vos6-E3iO"
      },
      "source": [
        "Put all the characters, that you've seen in the text, into variable `tokens`."
      ]
    },
    {
      "cell_type": "code",
      "execution_count": 6,
      "metadata": {
        "id": "GuFvXe-5E3iO"
      },
      "outputs": [],
      "source": [
        "tokens = sorted(set(text))\n",
        "tokens.append('<') # <SOS>"
      ]
    },
    {
      "cell_type": "markdown",
      "metadata": {
        "id": "ipthUmlME3iO"
      },
      "source": [
        "Create dictionary `token_to_idx = {<char>: <index>}` and dictionary `idx_to_token = {<index>: <char>}`"
      ]
    },
    {
      "cell_type": "code",
      "execution_count": 7,
      "metadata": {
        "collapsed": true,
        "id": "9yE-SM97E3iO"
      },
      "outputs": [],
      "source": [
        "# dict <index>:<char>\n",
        "# Your great code here\n",
        "idx_to_token = {index: char for index, char in enumerate(tokens)}\n",
        "\n",
        "# dict <char>:<index>\n",
        "# Your great code here\n",
        "token_to_idx = {char: index for index, char in enumerate(tokens)}"
      ]
    },
    {
      "cell_type": "markdown",
      "metadata": {
        "id": "tYMLfUqLE3iP"
      },
      "source": [
        "*Comment: in this task we have only 38 different tokens, so let's use one-hot encoding.*"
      ]
    },
    {
      "cell_type": "markdown",
      "metadata": {
        "id": "SQ2y_WU4E3iP"
      },
      "source": [
        "### Building the model"
      ]
    },
    {
      "cell_type": "markdown",
      "metadata": {
        "id": "iBOVW4tQE3iP"
      },
      "source": [
        "Now we want to build and train recurrent neural net which would be able to something similar to Shakespeare's poetry.\n",
        "\n",
        "Let's use vanilla RNN, similar to the one created during the lesson."
      ]
    },
    {
      "cell_type": "code",
      "execution_count": null,
      "metadata": {
        "id": "pyglVVCRYzG4"
      },
      "outputs": [],
      "source": [
        "device = torch.device(\"cuda\") if torch.cuda.is_available() else torch.device(\"cpu\")\n",
        "text_encoded = [token_to_idx[x] for x in text]"
      ]
    },
    {
      "cell_type": "code",
      "execution_count": 9,
      "metadata": {
        "id": "8RNYTqwPIGxo"
      },
      "outputs": [],
      "source": [
        "num_tokens = len(tokens)"
      ]
    },
    {
      "cell_type": "code",
      "execution_count": 10,
      "metadata": {
        "id": "NVDvc4h4nh3l"
      },
      "outputs": [],
      "source": [
        "seq_length = 100\n",
        "start_token = token_to_idx[\"<\"]\n",
        "\n",
        "def generate_chunk():\n",
        "    global text_encoded, start_token, seq_length\n",
        "\n",
        "    # Генерация случайного начального индекса\n",
        "    start_index = np.random.randint(0, len(text_encoded) - seq_length - 1)\n",
        "\n",
        "    # Извлечение последовательности данных\n",
        "    data = np.array(text_encoded[start_index : start_index + seq_length])\n",
        "\n",
        "    # Добавление стартового токена в начало последовательности\n",
        "    yield np.concatenate(([start_token], data))\n"
      ]
    },
    {
      "cell_type": "code",
      "execution_count": 11,
      "metadata": {
        "id": "7JF3UlwaIDT6"
      },
      "outputs": [],
      "source": [
        "def random_training_set():\n",
        "    # Генерация случайного фрагмента данных, преобразование его в тензор и упаковка в Variable\n",
        "    chunk = Variable(torch.Tensor(next(generate_chunk()))).type(torch.LongTensor)\n",
        "\n",
        "    inp = chunk[:-1].to(device)  # Входные данные, отбрасываем последний элемент\n",
        "    target = chunk[1:].to(device)  # Целевые данные, отбрасываем первый элемент\n",
        "\n",
        "    return inp, target"
      ]
    },
    {
      "cell_type": "code",
      "execution_count": 12,
      "metadata": {
        "collapsed": true,
        "id": "086P1Gc5E3iP"
      },
      "outputs": [],
      "source": [
        "# Your code here\n",
        "\n",
        "# Определение класса RNN, наследующего от nn.Module\n",
        "class RNN(nn.Module):\n",
        "    # Инициализация модели\n",
        "    def __init__(self, input_size, hidden_size, output_size, n_layers=1):\n",
        "        super(RNN, self).__init__()  # Вызов конструктора родительского класса nn.Module\n",
        "        self.input_size = input_size  # Размерность входных данных\n",
        "        self.hidden_size = hidden_size  # Размерность скрытого состояния\n",
        "        self.output_size = output_size  # Размерность выходных данных\n",
        "        self.n_layers = n_layers  # Количество слоев в RNN\n",
        "\n",
        "        # Слой для кодирования входных данных с помощью эмбеддингов\n",
        "        self.encoder = nn.Embedding(input_size, hidden_size)\n",
        "        # RNN слой, принимающий скрытое состояние и генерирующий новое скрытое состояние\n",
        "        self.rnn = nn.RNN(hidden_size, hidden_size, n_layers)\n",
        "        # Линейный слой для преобразования скрытого состояния в выходное значение\n",
        "        self.decoder = nn.Linear(hidden_size, output_size)\n",
        "\n",
        "    # Прямой проход через модель\n",
        "    def forward(self, input, hidden):\n",
        "        # Преобразование входных данных через эмбеддинг\n",
        "        input = self.encoder(input.view(1, -1))\n",
        "        # Пропуск через RNN, где output - это результат, а hidden - новое скрытое состояние\n",
        "        output, hidden = self.rnn(input.view(1, 1, -1), hidden)\n",
        "        # Преобразование выходных данных с помощью линейного слоя\n",
        "        output = self.decoder(output.view(1, -1))\n",
        "        return output, hidden\n",
        "\n",
        "    # Инициализация скрытого состояния\n",
        "    def init_hidden(self):\n",
        "        # Возвращает скрытое состояние, состоящее из нулей\n",
        "        return Variable(torch.zeros(self.n_layers, 1, self.hidden_size))\n"
      ]
    },
    {
      "cell_type": "code",
      "execution_count": 13,
      "metadata": {
        "id": "uB8UCV4rZFQS"
      },
      "outputs": [],
      "source": [
        "def train(inp, target):\n",
        "    # Инициализация скрытого состояния на первом шаге\n",
        "    hidden = decoder.init_hidden()\n",
        "    # Обнуление градиентов параметров модели перед новым проходом\n",
        "    decoder.zero_grad()\n",
        "    # Инициализация переменной для накопления ошибки\n",
        "    loss = 0\n",
        "\n",
        "    # Цикл по каждому символу во входной последовательности\n",
        "    for c in range(seq_length):\n",
        "        # Пропуск входа через декодер (RNN) для получения выхода и обновления скрытого состояния\n",
        "        output, hidden = decoder(inp[c], hidden)\n",
        "        # Накопление ошибки по каждой временной точке\n",
        "        loss += criterion(output, target[c].unsqueeze(0))\n",
        "\n",
        "    # Вычисление градиентов по всей ошибке\n",
        "    loss.backward()\n",
        "    # Обновление параметров модели с помощью оптимизатора\n",
        "    decoder_optimizer.step()\n",
        "\n",
        "    # Возвращаем среднее значение ошибки на одном примере (нормированное по длине последовательности)\n",
        "    return loss.data.item() / seq_length\n"
      ]
    },
    {
      "cell_type": "code",
      "execution_count": 14,
      "metadata": {
        "id": "khCBIM_8ZOqc"
      },
      "outputs": [],
      "source": [
        "import time, math\n",
        "\n",
        "def time_since(since): # Вычисление времени, прошедшего с момента начала (since)\n",
        "    s = time.time() - since\n",
        "    m = math.floor(s / 60)\n",
        "    s -= m * 60\n",
        "    return '%dm %ds' % (m, s)"
      ]
    },
    {
      "cell_type": "code",
      "execution_count": 15,
      "metadata": {
        "id": "TB_RIpzJXY5T"
      },
      "outputs": [],
      "source": [
        "def generate_sample(\n",
        "    char_rnn, seed_phrase=None, max_length=200, temperature=1.0, device=device\n",
        "):\n",
        "    \"\"\"\n",
        "    The function generates text given a phrase of length at least SEQ_LENGTH.\n",
        "    :param seed_phrase: prefix characters. The RNN is asked to continue the phrase\n",
        "    :param max_length: maximum output length, including seed_phrase\n",
        "    :param temperature: coefficient for sampling.  higher temperature produces more chaotic outputs,\n",
        "                        smaller temperature converges to the single most likely output\n",
        "    \"\"\"\n",
        "    # Если задан seed_phrase, преобразуем его в последовательность индексов, добавив <SOS>-токен \"<\"\n",
        "    if seed_phrase is not None:\n",
        "        x_sequence = [token_to_idx[\"<\"]] + [\n",
        "            token_to_idx[token] for token in seed_phrase\n",
        "        ]\n",
        "    else:         # Если seed_phrase не задан, начинаем с <SOS>-токена\n",
        "        x_sequence = [token_to_idx[\"<\"]]\n",
        "\n",
        "    x_sequence = torch.tensor([x_sequence], dtype=torch.int64).to(device)\n",
        "\n",
        "    # Инициализация скрытого состояния\n",
        "    hidden = char_rnn.init_hidden()\n",
        "    # Пропускаем seed_phrase через RNN, чтобы задать начальное скрытое состояние\n",
        "    for i in range(len(x_sequence[0]) - 1):\n",
        "        input_tensor = x_sequence[0][i].unsqueeze(0).unsqueeze(0)  # Reshape to (1, 1)\n",
        "        output, hidden = char_rnn(input_tensor, hidden)\n",
        "\n",
        "    # Генерация символов для продолжения текста\n",
        "    for _ in range(max_length - len(x_sequence[0]) + 1):\n",
        "        input_tensor = x_sequence[0][-1].unsqueeze(0).unsqueeze(0)  # Last character\n",
        "        output, hidden = char_rnn(input_tensor, hidden)\n",
        "\n",
        "        # Применение температурного масштабирования к выходу для управления случайностью\n",
        "        output_dist = torch.softmax(output / temperature, dim=1).data\n",
        "        top_idx = torch.multinomial(output_dist, num_samples=1).item()\n",
        "\n",
        "        # Добавляем выбранный символ в последовательность\n",
        "        x_sequence = torch.cat([x_sequence, torch.tensor([[top_idx]], dtype=torch.int64).to(device)], dim=1)\n",
        "\n",
        "    # Преобразуем полученную последовательность индексов обратно в строку и убираем <SOS>-токен\n",
        "    return \"\".join([tokens[ix] for ix in x_sequence.cpu().data.numpy()[0]]).replace('<', '')"
      ]
    },
    {
      "cell_type": "code",
      "execution_count": 16,
      "metadata": {
        "colab": {
          "base_uri": "https://localhost:8080/"
        },
        "id": "uwwBo0s6ZKcp",
        "outputId": "4a025b3b-c369-4471-b0b4-d69b4460d1f1"
      },
      "outputs": [
        {
          "name": "stdout",
          "output_type": "stream",
          "text": [
            "[0m 2s (100 5%) 2.0213]\n",
            "hellove coun art bin st pavand buau\n",
            "    no and eraint thin ely his iy and bivs be and ate lound in h \n",
            "\n",
            "[0m 5s (200 10%) 1.9153]\n",
            "hellous'd ngatt,\n",
            "  what muief?\n",
            "   ands 'ints the hound?\n",
            "  xxplamt the samand heast,\n",
            "  no yame,\n",
            "  thi \n",
            "\n",
            "[0m 7s (300 15%) 2.4290]\n",
            "hello i jovn thake.\n",
            "   ill om stall wine owntst kele eoth with lowe though swith to sumt that that r \n",
            "\n",
            "[0m 10s (400 20%) 2.1245]\n",
            "hellongurge no gothy thourcong?\n",
            "  me not fich sprres in dere inch her wif which end me,\n",
            "      in,\n",
            "   \n",
            "\n",
            "[0m 12s (500 25%) 1.8347]\n",
            "hellovn art chappiong and geaster mor at no chill's tould a fairy thy loves y, wre's my a true wild  \n",
            "\n",
            "[0m 15s (600 30%) 1.8187]\n",
            "hellonk, duts the in mo me thy this'd the me the dids deter mose of thost vay,\n",
            "  though nelly werse  \n",
            "\n",
            "[0m 17s (700 35%) 2.2088]\n",
            "hellong thy seess for wayst thou his the soos dost,\n",
            "  frue ous beous the reed;\n",
            "  hall oun art one, n \n",
            "\n",
            "[0m 20s (800 40%) 1.6955]\n",
            "hellone is love being prost is ple in son there all know woul not your sins on gravore can your love \n",
            "\n",
            "[0m 22s (900 45%) 1.6300]\n",
            "hellouse i doon i baby net her thy new not thy prighten'st thee thersare,\n",
            "  o! shar.\n",
            "  thou thou sha \n",
            "\n",
            "[0m 24s (1000 50%) 1.6633]\n",
            "hellold.\n",
            "  ixcine,\n",
            "  the poor his my toosh the pwith my mund, thy puppering thians.\n",
            "\n",
            "    then, so xa \n",
            "\n",
            "[0m 27s (1100 55%) 1.7080]\n",
            "hellow;\n",
            "    if the groon exifty then the wer,\n",
            "  the my, the bet.\n",
            "\n",
            "  thou heart frain\n",
            "  grow one frid \n",
            "\n",
            "[0m 29s (1200 60%) 1.8309]\n",
            "hellomer and ame their be on for you love,\n",
            "  as or minnsprate,\n",
            "  o! mind,\n",
            "  but senvlind, of bet con \n",
            "\n",
            "[0m 32s (1300 65%) 1.7996]\n",
            "helloud yet, and bull werth sume, ack the ele art nume bame for be stwerk timing nume it make auty b \n",
            "\n",
            "[0m 34s (1400 70%) 1.7217]\n",
            "hellow'd, thou mire my must my look ote, so his more my desed of fast bery,\n",
            "  as for dutite her hath \n",
            "\n",
            "[0m 37s (1500 75%) 1.4813]\n",
            "hellow'st be the love must seill love on with thy trund soud.\n",
            "  say, may thy prows we froud genchod. \n",
            "\n",
            "[0m 39s (1600 80%) 1.6495]\n",
            "hellong i the row will i stear that to shal oless to am shife,\n",
            "  xcine hangres or new fare, and be w \n",
            "\n",
            "[0m 41s (1700 85%) 1.6307]\n",
            "hellose greadst deceev\n",
            "\n",
            "  to dasking,\n",
            "  or heaven beauting some to in the heart\n",
            "    i  wherehen his  \n",
            "\n",
            "[0m 44s (1800 90%) 1.6378]\n",
            "hellong is fart.\n",
            "\n",
            "  be is in their what for drece doi by light,\n",
            "  cout the right,\n",
            "  and in heart is  \n",
            "\n",
            "[0m 46s (1900 95%) 1.7544]\n",
            "hellow'st iin ageed nor strie,\n",
            "  'worset staton that to handsermer's be oney well greasurs abler say \n",
            "\n",
            "[0m 48s (2000 100%) 1.4622]\n",
            "hellow\n",
            "  sask hight,\n",
            "  their dost in love in thry her there is the,\n",
            "  fring suching is dids of the e \n",
            "\n"
          ]
        }
      ],
      "source": [
        "n_epochs = 2000  # Общее количество эпох для тренировки\n",
        "hidden_size = 100  # Размер скрытого слоя в сети\n",
        "print_every = 100  # Частота вывода результатов (каждые 100 эпох)\n",
        "plot_every = 10   # Частота сохранения средней ошибки для построения графика\n",
        "n_layers = 1  # Количество слоев в RNN\n",
        "lr = 0.005  # Скорость обучения\n",
        "\n",
        "decoder = RNN(num_tokens, hidden_size, num_tokens, n_layers)\n",
        "decoder_optimizer = torch.optim.Adam(decoder.parameters(), lr=lr)\n",
        "criterion = nn.CrossEntropyLoss()\n",
        "\n",
        "start = time.time()\n",
        "all_losses = []\n",
        "loss_avg = 0\n",
        "\n",
        "for epoch in range(1, n_epochs + 1):\n",
        "    # Получаем случайный набор данных для тренировки\n",
        "    inp, target = random_training_set()\n",
        "    # Выполняем один шаг обучения\n",
        "    loss = train(inp, target)\n",
        "    # Накопление среднего значения потерь\n",
        "    loss_avg += loss\n",
        "\n",
        "    # Печать результатов каждые 'print_every' эпох\n",
        "    if epoch % print_every == 0:\n",
        "        print('[%s (%d %d%%) %.4f]' % (time_since(start), epoch, epoch / n_epochs * 100, loss))\n",
        "        # Генерация примера текста с использованием текущей модели\n",
        "        print(generate_sample(decoder, seed_phrase='hello', max_length=100, temperature=0.8, device=device), '\\n')\n",
        "\n",
        "    # Сохранение потерь для графика каждые 'plot_every' эпох\n",
        "    if epoch % plot_every == 0:\n",
        "        all_losses.append(loss_avg / plot_every)\n",
        "        loss_avg = 0  # Обновление накопленных потерь\n"
      ]
    },
    {
      "cell_type": "markdown",
      "metadata": {
        "id": "3qOH5uXWE3iP"
      },
      "source": [
        "Plot the loss function (axis X: number of epochs, axis Y: loss function)."
      ]
    },
    {
      "cell_type": "code",
      "execution_count": 17,
      "metadata": {
        "colab": {
          "base_uri": "https://localhost:8080/",
          "height": 447
        },
        "collapsed": true,
        "id": "9VzkJU87E3iP",
        "outputId": "4285e144-da05-40c8-90c2-69b4a4450b03"
      },
      "outputs": [
        {
          "data": {
            "text/plain": [
              "[<matplotlib.lines.Line2D at 0x20ae2937640>]"
            ]
          },
          "execution_count": 17,
          "metadata": {},
          "output_type": "execute_result"
        },
        {
          "data": {
            "image/png": "[encoded data removed]",
            "text/plain": [
              "<Figure size 640x480 with 1 Axes>"
            ]
          },
          "metadata": {},
          "output_type": "display_data"
        }
      ],
      "source": [
        "# Your plot code here\n",
        "import matplotlib.pyplot as plt\n",
        "import matplotlib.ticker as ticker\n",
        "%matplotlib inline\n",
        "\n",
        "plt.figure()\n",
        "plt.plot(all_losses)"
      ]
    },
    {
      "cell_type": "code",
      "execution_count": 18,
      "metadata": {
        "colab": {
          "base_uri": "https://localhost:8080/"
        },
        "id": "jB6HClusE3iP",
        "outputId": "f1f1ca4f-bb37-4e45-9fdc-74a3f573554c"
      },
      "outputs": [
        {
          "name": "stdout",
          "output_type": "stream",
          "text": [
            " i in the own dead had shape the reath the in the show the own diss show shall of the in the shad the in diss love i am in the rest in the conquess of the the shall of the in the shall in the shad of the reast i the shape own diss the is the own the rest the i in the reature of the reast i in this the on the i in the such the of the shappess of the own diss of the in the shad of the shall of the own the rest shape in the red of the surself be the in diss of the rest,\n",
            "  but i in the show shall of\n"
          ]
        }
      ],
      "source": [
        "# An example of generated text.\n",
        "print(generate_sample(char_rnn=decoder, max_length=500, temperature=0.2))"
      ]
    },
    {
      "cell_type": "markdown",
      "metadata": {
        "id": "8mFIgidIE3iP"
      },
      "source": [
        "### More poetic model\n",
        "\n",
        "Let's use LSTM instead of vanilla RNN and compare the results."
      ]
    },
    {
      "cell_type": "markdown",
      "metadata": {
        "id": "RPmC1VnaE3iP"
      },
      "source": [
        "Plot the loss function of the number of epochs. Does the final loss become better?"
      ]
    },
    {
      "cell_type": "markdown",
      "metadata": {
        "id": "TE6hE8KCxNCO"
      },
      "source": [
        "**Answer:** the final loss became slightly better."
      ]
    },
    {
      "cell_type": "code",
      "execution_count": 19,
      "metadata": {
        "collapsed": true,
        "id": "azUOzzk4E3iP"
      },
      "outputs": [],
      "source": [
        "# Your beautiful code here\n",
        "class LSTM(nn.Module):\n",
        "    def __init__(self, input_size, hidden_size, output_size, n_layers=1):\n",
        "        super(LSTM, self).__init__()\n",
        "        self.input_size = input_size  # Размер входа (число уникальных токенов)\n",
        "        self.hidden_size = hidden_size  # Размер скрытого слоя (вектор состояния)\n",
        "        self.output_size = output_size  # Размер выходного слоя (число токенов на выходе)\n",
        "        self.n_layers = n_layers  # Количество слоев в LSTM\n",
        "\n",
        "        self.encoder = nn.Embedding(input_size, hidden_size)\n",
        "        self.lstm = nn.LSTM(hidden_size, hidden_size, n_layers, batch_first=True)\n",
        "        self.decoder = nn.Linear(hidden_size, output_size)\n",
        "\n",
        "    def forward(self, input, hidden):\n",
        "        # Преобразуем вход в вектор скрытого состояния с помощью Embedding\n",
        "        input = self.encoder(input.view(1, -1))  # Преобразуем вектор индексов в embedding\n",
        "        # Пропускаем через LSTM слой\n",
        "        output, hidden = self.lstm(input.view(1, 1, -1), hidden)\n",
        "        # Преобразуем выход LSTM в результат с помощью линейного слоя\n",
        "        output = self.decoder(output.view(1, -1))\n",
        "        return output, hidden  # Возвращаем выход и обновленное скрытое состояние\n",
        "\n",
        "    def init_hidden(self):\n",
        "        # Состояние скрытых слоев LSTM состоит из двух частей: hidden_state (скрытое состояние) и cell_state (состояние ячейки)\n",
        "        return (Variable(torch.zeros(self.n_layers, 1, self.hidden_size)),\n",
        "                Variable(torch.zeros(self.n_layers, 1, self.hidden_size)))\n"
      ]
    },
    {
      "cell_type": "code",
      "execution_count": 20,
      "metadata": {
        "id": "GOwFzk0sb4EV"
      },
      "outputs": [],
      "source": [
        "def train_lstm(inp, target):\n",
        "    hidden = lstm_model.init_hidden()\n",
        "    lstm_model.zero_grad()\n",
        "    loss = 0\n",
        "\n",
        "    # Проходим по каждому символу в последовательности\n",
        "    for c in range(seq_length):\n",
        "        output, hidden = lstm_model(inp[c].unsqueeze(0), hidden)  # добавляем размерности с помощью unsqueeze(0) для подачи в LSTM\n",
        "\n",
        "        # Вычисление потерь для текущего шага\n",
        "        loss += criterion(output, target[c].unsqueeze(0))  # добавляем размерности с помощью unsqueeze(0) для подачи в LSTM\n",
        "\n",
        "    # Обратное распространение ошибки через сеть\n",
        "    loss.backward()\n",
        "    # Шаг оптимизации для обновления параметров модели\n",
        "    optimizer.step()\n",
        "\n",
        "    # Возвращаем среднее значение потерь для текущей последовательности\n",
        "    return loss.item() / seq_length  # Делим на длину последовательности для усреднения\n"
      ]
    },
    {
      "cell_type": "code",
      "execution_count": 21,
      "metadata": {
        "colab": {
          "base_uri": "https://localhost:8080/",
          "height": 1000
        },
        "id": "KiEByNBjcIRo",
        "outputId": "c1a89447-1810-41b3-8873-88d416b1c656"
      },
      "outputs": [
        {
          "name": "stdout",
          "output_type": "stream",
          "text": [
            "[0m 12s (100 5%) 2.1841]\n",
            "hellof dien wiik ih fo mat wide\n",
            "  the\n",
            "  the yhone deed\n",
            "\n",
            "  hee is thou shat ith an hien, no hat hat l \n",
            "\n",
            "[0m 25s (200 10%) 1.9827]\n",
            "hellont wh and prii\n",
            "\n",
            "  xxxvet thy wor sht in the sp in ah the my ruys?\n",
            "  thou in sur ekire me,\n",
            "  nor \n",
            "\n",
            "[0m 37s (300 15%) 2.0495]\n",
            "hellost tellos in thoughth chase dot thy woroo mays for that thou ball my prest thout your let cathr \n",
            "\n",
            "[0m 49s (400 20%) 1.7545]\n",
            "hellour to and to love and untioghthe prantonds how,\n",
            "   for wichou by and my some roth my at of thy  \n",
            "\n",
            "[1m 0s (500 25%) 1.8820]\n",
            "hellone.\n",
            "  then will have how,\n",
            "  and the hy beart have worrs, thy would's be is lindes then state,\n",
            "  \n",
            "\n",
            "[1m 12s (600 30%) 1.9212]\n",
            "hellones eveeck,\n",
            "  and a'd of come thiny my gride ming but in me seet and soore thiny streater may v \n",
            "\n",
            "[1m 24s (700 35%) 1.6335]\n",
            "helloy, for other poth bartinst shaln not fatcht, wrickent sull tingue;\n",
            "  and ?ond, haty my day on t \n",
            "\n",
            "[1m 36s (800 40%) 1.8313]\n",
            "hello, the should i his bow;\n",
            "  comen thee then shall beath you bother my newers, and thee eases thou \n",
            "\n",
            "[1m 48s (900 45%) 1.7902]\n",
            "hellond as for that shall vilse thou.\n",
            "  if the woull my plerol theer all mautide comb of doth i he m \n",
            "\n",
            "[1m 59s (1000 50%) 1.6515]\n",
            "hellofe that when you to a spaply sing the seed to so sull be i and lover'd and this me my bedse dem \n",
            "\n",
            "[2m 10s (1100 55%) 1.6599]\n",
            "hellone how i bright, though and the par then is vow somed, and in in mide ill love for my more me d \n",
            "\n",
            "[2m 22s (1200 60%) 1.4733]\n",
            "helloint,\n",
            "  that trakses longs liiightore with is forthing,\n",
            "  uime my have shoul i willing thal not  \n",
            "\n",
            "[2m 34s (1300 65%) 1.7143]\n",
            "helloss to more the we since from beave thy simagose fierd even,\n",
            "  and me bram no the brove of your  \n",
            "\n",
            "[2m 47s (1400 70%) 1.6933]\n",
            "hellows in lide dart and love curitres giving hing.\n",
            "      this with now of thee, thus, oor be breat  \n",
            "\n",
            "[3m 0s (1500 75%) 1.6336]\n",
            "helloss the de's be grose in thing tippy dear boked beyain i ren dearsed--light,\n",
            "  stends with oles  \n",
            "\n",
            "[3m 11s (1600 80%) 1.6950]\n",
            "hellowing grain, that soments, thou when the creying were have in thou are i se my me:\n",
            "  mine,\n",
            "  on  \n",
            "\n",
            "[3m 24s (1700 85%) 1.7186]\n",
            "hellow'd your i menture thee some our sleat'st my for thou live heren endernest so minest head,\n",
            "  no \n",
            "\n",
            "[3m 40s (1800 90%) 1.5305]\n",
            "helloes whiest be worth be the streeetore strong?\n",
            "  lier better to my brease.\n",
            "  if i tren;\n",
            "      and \n",
            "\n",
            "[3m 58s (1900 95%) 1.5958]\n",
            "hellore be a hamen be wheen,\n",
            "  thou attentver'd as the self i the for thou arts there to beauty and  \n",
            "\n",
            "[4m 14s (2000 100%) 1.5172]\n",
            "hellow of haves a fair,\n",
            "      thou sun;\n",
            "           in hour prov'ds with deness,\n",
            "  af lest even i str \n",
            "\n"
          ]
        },
        {
          "data": {
            "image/png": "[encoded data removed]",
            "text/plain": [
              "<Figure size 640x480 with 1 Axes>"
            ]
          },
          "metadata": {},
          "output_type": "display_data"
        }
      ],
      "source": [
        "lstm_model = LSTM(num_tokens, hidden_size, num_tokens).to(device)\n",
        "optimizer = torch.optim.Adam(lstm_model.parameters(), lr=0.005)\n",
        "criterion = nn.CrossEntropyLoss()\n",
        "\n",
        "n_epochs = 2000 # Задание числа эпох для обучения\n",
        "print_every = 100  # Выводить информацию о потере каждые 100 эпох\n",
        "plot_every = 10  # Каждый 10-й выводить усреднённые потери для графика\n",
        "all_losses = []  # Список для хранения потерь на каждой эпохе\n",
        "loss_avg = 0  # Переменная для усреднения потерь на интервале\n",
        "\n",
        "start = time.time()  # Начало отсчёта времени тренировки\n",
        "\n",
        "# Цикл по эпохам тренировки\n",
        "for epoch in range(1, n_epochs + 1):\n",
        "    inp, target = random_training_set()  # Получаем случайную обучающую выборку\n",
        "    loss = train_lstm(inp, target)  # Обучение на текущем батче\n",
        "    loss_avg += loss  # Накопление потерь\n",
        "\n",
        "    # Вывод потерь и сгенерированного текста каждые 'print_every' эпох\n",
        "    if epoch % print_every == 0:\n",
        "        print('[%s (%d %d%%) %.4f]' % (time_since(start), epoch, epoch / n_epochs * 100, loss))\n",
        "        print(generate_sample(lstm_model, seed_phrase='hello', max_length=100, temperature=0.8), '\\n')\n",
        "\n",
        "    # Добавление усреднённых потерь каждые 'plot_every' эпох\n",
        "    if epoch % plot_every == 0:\n",
        "        all_losses.append(loss_avg / plot_every)\n",
        "        loss_avg = 0  # Сбрасываем накопленные потери для следующего интервала\n",
        "\n",
        "plt.figure()\n",
        "plt.plot(all_losses)  # Отображение всех усреднённых потерь\n",
        "plt.xlabel(\"Epochs\")\n",
        "plt.ylabel(\"Loss\")\n",
        "plt.title(\"Training Loss Over Time\")\n",
        "plt.show()\n"
      ]
    },
    {
      "cell_type": "markdown",
      "metadata": {
        "id": "fSVrZs_ME3iP"
      },
      "source": [
        "Generate text using the trained net with different `temperature` parameter: `[0.1, 0.2, 0.5, 1.0, 2.0]`.\n",
        "\n",
        "Evaluate the results visually, try to interpret them."
      ]
    },
    {
      "cell_type": "code",
      "execution_count": 22,
      "metadata": {
        "colab": {
          "base_uri": "https://localhost:8080/"
        },
        "collapsed": true,
        "id": "YaEwfIocE3iP",
        "outputId": "ac0460b8-b482-4569-9d48-362b1628a335"
      },
      "outputs": [
        {
          "name": "stdout",
          "output_type": "stream",
          "text": [
            "Temperature 0.1: \n",
            "  the strong she shall the strong the strong the prich more shall the strange strong the strong show show show show shall the strong the strong the strong shall the strong the stay,\n",
            "  and shall the strong the strong shall the shall the strong the strong the streast the strong show the strong shall the strong the strange the strong she strong shall the strong the strong shall show show in me shall the strong the strong shall the shall the shall the strong strong the strong show the strong strown s\n",
            "Temperature 0.2: \n",
            "  the strong shall the strange in the praise the strong she summer the still shall in the prove the shall the see the fair the price stay,\n",
            "  and the summer and the summer me shall the shall the shall the strong the strange still the should the strong strong see the prich should the strange shall summer should the string shall the should should the stay should the strange the strong the still the stall the see shall the shall in the stall the summer in me see summer the self strange show the stran\n",
            "Temperature 0.5: \n",
            " ing as should and the well my thine are the face should when and love shall for my should to as seath the fair in you ends the prive still confest death my a such live in my the seem all be thy mine in summer's thou with in thee not see live thou with for the say,\n",
            "  when me shall in thou disgrace his spites which in summer the see me memory;\n",
            "  and thy hough all thou dost upon of the sprole in thou string fair in me why should the see in me the should stand;\n",
            "  and that summer his a see specth and\n",
            "Temperature 1.0: \n",
            " her introun and strong asswely swarp,\n",
            "    is thee.\n",
            "      spity.\n",
            "    rnow!\n",
            "  so fauth fairs, mone showers,\n",
            "  best he gite love me the hath can a saty,\n",
            "  if the earth'st,\n",
            "  seal your live strice woy self,\n",
            "  in so sage,\n",
            "  and weard my kingege,\n",
            "  and which domb.\n",
            "  in is dearge afpen;\n",
            "  ,ost atsee'st the daynanpil,\n",
            "    yet no mindies healig?\n",
            "\n",
            "  in eqill of so dounter with thee thou gricght let in othen esull besiet,\n",
            "    but feake,\n",
            "  when in say she place weet fauls of winkil forth thou hinted thy all\n",
            "Temperature 2.0: \n",
            "  wh'ak, v:\n",
            "  hawite,.\n",
            "\n",
            "  lue tru?\n",
            "  :igh;\n",
            "    ith'd, shapgemyle pilid-gonpdeprow;\n",
            "  oy-staknleul weir,\n",
            "  but deccieguey,;\n",
            ": kiuch kil,\n",
            " wandowe live,\n",
            "  cqoeves o\n",
            "  hun for m'do\n",
            "gh.\n",
            "\n",
            "  gcnace ofybbixth ryi dursetusesn.\n",
            "  rleaar\n",
            "' flewornunge\n",
            "' lootkinge:\n",
            "  a iuil\n",
            "\n",
            "  vis;\n",
            "   youth\n",
            "  shoouth's dlout sumptcnuia\n",
            " lifwe hurmeg,\n",
            "  forps psan, ix.(\n",
            "\n",
            "  it pwitpnigklss-.xyiumat:\n",
            "  ol i by pppartwrahj--e findreows's enh\n",
            "   o eqedoon'd breiritfoudly se,rom!',\n",
            "  wrown'st ugropflapge?\n",
            "  i! havy,\n",
            "\n",
            "  ghush, l\n"
          ]
        }
      ],
      "source": [
        "# Text generation with different temperature values here\n",
        "for temperature in [0.1, 0.2, 0.5, 1.0, 2.0]:\n",
        "    print(f'Temperature {temperature}: \\n', generate_sample(lstm_model, max_length=500, temperature=temperature))"
      ]
    },
    {
      "cell_type": "markdown",
      "metadata": {
        "id": "y9iN8QBKelv3"
      },
      "source": [
        "Interpretation: at low temperatures generated texts are highly repetitive, at medium temperatures the texts are more diverse yet still coherent, and at the highest temperature the text become meaningless and incomprehensible."
      ]
    },
    {
      "cell_type": "markdown",
      "metadata": {
        "id": "WyDGyLKtE3iP"
      },
      "source": [
        "### Saving and loading models"
      ]
    },
    {
      "cell_type": "markdown",
      "metadata": {
        "id": "Qz-P0ZlfE3iP"
      },
      "source": [
        "Save the model to the disk, then load it and generate text. Examples are available [here](https://pytorch.org/tutorials/beginner/saving_loading_models.html])."
      ]
    },
    {
      "cell_type": "code",
      "execution_count": 23,
      "metadata": {
        "colab": {
          "base_uri": "https://localhost:8080/"
        },
        "collapsed": true,
        "id": "DY_IoWJKE3iP",
        "outputId": "c92d2dc5-01ad-49d7-edc5-f60a56b3a735"
      },
      "outputs": [
        {
          "name": "stdout",
          "output_type": "stream",
          "text": [
            "Model saved to lstm_text_generator.pth\n"
          ]
        }
      ],
      "source": [
        "# Saving and loading code here\n",
        "model_path = \"lstm_text_generator.pth\"\n",
        "torch.save(lstm_model.state_dict(), model_path)\n",
        "print(f\"Model saved to {model_path}\")"
      ]
    },
    {
      "cell_type": "code",
      "execution_count": 24,
      "metadata": {
        "colab": {
          "base_uri": "https://localhost:8080/"
        },
        "id": "08S_Y9ErdXdD",
        "outputId": "81cd0b62-ef51-494c-e20d-6f1262b50fe8"
      },
      "outputs": [
        {
          "name": "stdout",
          "output_type": "stream",
          "text": [
            "Model loaded successfully!\n"
          ]
        },
        {
          "name": "stderr",
          "output_type": "stream",
          "text": [
            "C:\\Users\\Warain\\AppData\\Local\\Temp\\ipykernel_21932\\3839505532.py:3: FutureWarning: You are using `torch.load` with `weights_only=False` (the current default value), which uses the default pickle module implicitly. It is possible to construct malicious pickle data which will execute arbitrary code during unpickling (See https://github.com/pytorch/pytorch/blob/main/SECURITY.md#untrusted-models for more details). In a future release, the default value for `weights_only` will be flipped to `True`. This limits the functions that could be executed during unpickling. Arbitrary objects will no longer be allowed to be loaded via this mode unless they are explicitly allowlisted by the user via `torch.serialization.add_safe_globals`. We recommend you start setting `weights_only=True` for any use case where you don't have full control of the loaded file. Please open an issue on GitHub for any issues related to this experimental feature.\n",
            "  loaded_model.load_state_dict(torch.load(model_path))\n"
          ]
        }
      ],
      "source": [
        "loaded_model = LSTM(num_tokens, hidden_size, num_tokens)\n",
        "\n",
        "loaded_model.load_state_dict(torch.load(model_path))\n",
        "\n",
        "loaded_model.to(device)\n",
        "\n",
        "loaded_model.eval()\n",
        "print(\"Model loaded successfully!\")\n"
      ]
    },
    {
      "cell_type": "code",
      "execution_count": 25,
      "metadata": {
        "colab": {
          "base_uri": "https://localhost:8080/"
        },
        "id": "lxEF9lVcdmCU",
        "outputId": "108f4191-021e-4ed3-d6a5-ef305e74b8b1"
      },
      "outputs": [
        {
          "name": "stdout",
          "output_type": "stream",
          "text": [
            "Generated text: helloly love,\n",
            "  and,\n",
            "    or i deakelling way,\n",
            "  and not and doth oftronger mort suctent'st conce,\n",
            "  \n"
          ]
        }
      ],
      "source": [
        "seed_phrase = \"hello\"\n",
        "generated_text = generate_sample(\n",
        "    char_rnn=loaded_model,\n",
        "    seed_phrase=seed_phrase,\n",
        "    max_length=100,\n",
        "    temperature=1.0\n",
        ")\n",
        "\n",
        "print(\"Generated text:\", generated_text)\n"
      ]
    },
    {
      "cell_type": "code",
      "execution_count": 26,
      "metadata": {
        "colab": {
          "base_uri": "https://localhost:8080/"
        },
        "id": "RUSmxspkgdEJ",
        "outputId": "9ab0cc01-2888-4413-9d66-a44b56d2fbda"
      },
      "outputs": [
        {
          "name": "stdout",
          "output_type": "stream",
          "text": [
            "Model saved to vanilla_rnn_text_generator.pth\n"
          ]
        }
      ],
      "source": [
        "model_path2 = \"vanilla_rnn_text_generator.pth\"\n",
        "torch.save(decoder.state_dict(), model_path2)\n",
        "print(f\"Model saved to {model_path2}\")"
      ]
    },
    {
      "cell_type": "code",
      "execution_count": 27,
      "metadata": {
        "colab": {
          "base_uri": "https://localhost:8080/"
        },
        "id": "z_bFsPG3grFj",
        "outputId": "a4efbd28-9b4c-434f-a65d-2e514cdac852"
      },
      "outputs": [
        {
          "name": "stdout",
          "output_type": "stream",
          "text": [
            "Model loaded successfully!\n"
          ]
        },
        {
          "name": "stderr",
          "output_type": "stream",
          "text": [
            "C:\\Users\\Warain\\AppData\\Local\\Temp\\ipykernel_21932\\3531106751.py:3: FutureWarning: You are using `torch.load` with `weights_only=False` (the current default value), which uses the default pickle module implicitly. It is possible to construct malicious pickle data which will execute arbitrary code during unpickling (See https://github.com/pytorch/pytorch/blob/main/SECURITY.md#untrusted-models for more details). In a future release, the default value for `weights_only` will be flipped to `True`. This limits the functions that could be executed during unpickling. Arbitrary objects will no longer be allowed to be loaded via this mode unless they are explicitly allowlisted by the user via `torch.serialization.add_safe_globals`. We recommend you start setting `weights_only=True` for any use case where you don't have full control of the loaded file. Please open an issue on GitHub for any issues related to this experimental feature.\n",
            "  loaded_model2.load_state_dict(torch.load(model_path2))\n"
          ]
        }
      ],
      "source": [
        "loaded_model2 = RNN(num_tokens, hidden_size, num_tokens, n_layers)\n",
        "\n",
        "loaded_model2.load_state_dict(torch.load(model_path2))\n",
        "\n",
        "loaded_model2.to(device)\n",
        "\n",
        "loaded_model2.eval()\n",
        "print(\"Model loaded successfully!\")"
      ]
    },
    {
      "cell_type": "code",
      "execution_count": 28,
      "metadata": {
        "colab": {
          "base_uri": "https://localhost:8080/"
        },
        "id": "uClOJUnchTog",
        "outputId": "800921b0-dc61-4129-b996-20e5c7387c59"
      },
      "outputs": [
        {
          "name": "stdout",
          "output_type": "stream",
          "text": [
            "Generated text: hellokturs your all renture's lird,\n",
            "  but disse idsthins tcue ithrid moith the of prilse adger,\n",
            "    \n"
          ]
        }
      ],
      "source": [
        "generated_text = generate_sample(\n",
        "    char_rnn=loaded_model2,\n",
        "    seed_phrase=seed_phrase,\n",
        "    max_length=100,\n",
        "    temperature=1.0\n",
        ")\n",
        "\n",
        "print(\"Generated text:\", generated_text)\n"
      ]
    },
    {
      "cell_type": "markdown",
      "metadata": {
        "id": "MDdky6XTE3iQ"
      },
      "source": [
        "### References\n",
        "1. <a href='http://karpathy.github.io/2015/05/21/rnn-effectiveness/'> Andrew Karpathy blog post about RNN. </a>\n",
        "There are several examples of genration: Shakespeare texts, Latex formulas, Linux Sourse Code and children names.\n",
        "2. <a href='https://github.com/karpathy/char-rnn'> Repo with char-rnn code </a>\n",
        "3. Cool repo with PyTorch examples: [link](https://github.com/spro/practical-pytorch`)"
      ]
    }
  ],
  "metadata": {
    "anaconda-cloud": {},
    "colab": {
      "provenance": []
    },
    "kernelspec": {
      "display_name": "Python 3",
      "language": "python",
      "name": "python3"
    },
    "language_info": {
      "codemirror_mode": {
        "name": "ipython",
        "version": 3
      },
      "file_extension": ".py",
      "mimetype": "text/x-python",
      "name": "python",
      "nbconvert_exporter": "python",
      "pygments_lexer": "ipython3",
      "version": "3.9.13"
    }
  },
  "nbformat": 4,
  "nbformat_minor": 0
}
